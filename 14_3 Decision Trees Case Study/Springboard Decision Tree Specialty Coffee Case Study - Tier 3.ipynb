{
 "cells": [
  {
   "cell_type": "markdown",
   "metadata": {
    "colab_type": "text",
    "id": "Jm0w3zN4DuVK"
   },
   "source": [
    "# **Springboard Decision Tree Specialty Coffee Case Study - Tier 3**\n",
    "\n",
    "\n"
   ]
  },
  {
   "cell_type": "markdown",
   "metadata": {
    "colab_type": "text",
    "id": "BhqpAY7GDuVN"
   },
   "source": [
    "# The Scenario\n",
    "\n",
    "Imagine you've just finished the Springboard Data Science Career Track course, and have been hired by a rising popular specialty coffee company - RR Diner Coffee - as a data scientist. Congratulations!\n",
    "\n",
    "RR Diner Coffee sells two types of thing:\n",
    "- specialty coffee beans, in bulk (by the kilogram only) \n",
    "- coffee equipment and merchandise (grinders, brewing equipment, mugs, books, t-shirts).\n",
    "\n",
    "RR Diner Coffee has three stores, two in Europe and one in the USA. The flagshap store is in the USA, and everything is quality assessed there, before being shipped out. Customers further away from the USA flagship store have higher shipping charges. \n",
    "\n",
    "You've been taken on at RR Diner Coffee because the company are turning towards using data science and machine learning to systematically make decisions about which coffee farmers they should strike deals with. \n",
    "\n",
    "RR Diner Coffee typically buys coffee from farmers, processes it on site, brings it back to the USA, roasts it, packages it, markets it, and ships it (only in bulk, and after quality assurance) to customers internationally. These customers all own coffee shops in major cities like New York, Paris, London, Hong Kong, Tokyo, and Berlin. \n",
    "\n",
    "Now, RR Diner Coffee has a decision about whether to strike a deal with a legendary coffee farm (known as the **Hidden Farm**) in rural China: there are rumours their coffee tastes of lychee and dark chocolate, while also being as sweet as apple juice. \n",
    "\n",
    "It's a risky decision, as the deal will be expensive, and the coffee might not be bought by customers. The stakes are high: times are tough, stocks are low, farmers are reverting to old deals with the larger enterprises and the publicity of selling *Hidden Farm* coffee could save the RR Diner Coffee business. \n",
    "\n",
    "Your first job, then, is ***to build a decision tree to predict how many units of the Hidden Farm Chinese coffee will be purchased by RR Diner Coffee's most loyal customers.*** \n",
    "\n",
    "To this end, you and your team have conducted a survey of 710 of the most loyal RR Diner Coffee customers, collecting data on the customers':\n",
    "- age\n",
    "- gender \n",
    "- salary \n",
    "- whether they have bought at least one RR Diner Coffee product online\n",
    "- their distance from the flagship store in the USA (standardized to a number between 0 and 11) \n",
    "- how much they spent on RR Diner Coffee products on the week of the survey \n",
    "- how much they spent on RR Diner Coffee products in the month preeding the survey\n",
    "- the number of RR Diner coffee bean shipments each customer has ordered over the preceding year. \n",
    "\n",
    "You also asked each customer participating in the survey whether they would buy the Hidden Farm coffee, and some (but not all) of the customers gave responses to that question. \n",
    "\n",
    "You sit back and think: if more than 70% of the interviewed customers are likely to buy the Hidden Farm coffee, you will strike the deal with the local Hidden Farm farmers and sell the coffee. Otherwise, you won't strike the deal and the Hidden Farm coffee will remain in legends only. There's some doubt in your mind about whether 70% is a reasonable threshold, but it'll do for the moment. \n",
    "\n",
    "To solve the problem, then, you will build a decision tree to implement a classification solution. \n",
    "\n",
    "\n",
    "-------------------------------\n",
    "As ever, this notebook is **tiered**, meaning you can elect that tier that is right for your confidence and skill level. There are 3 tiers, with tier 1 being the easiest and tier 3 being the hardest. This is ***tier 3***, so it will be challenging. \n",
    "\n",
    "**1. Sourcing and loading** \n",
    "- Import packages\n",
    "- Load data\n",
    "- Explore the data\n",
    "\n",
    " \n",
    "**2. Cleaning, transforming and visualizing**\n",
    "- Cleaning the data\n",
    "- Train/test split\n",
    "  \n",
    "  \n",
    "**3. Modelling** \n",
    "- Model 1: Entropy model - no max_depth\n",
    "- Model 2: Gini impurity model - no max_depth\n",
    "- Model 3: Entropy model - max depth 3\n",
    "- Model 4: Gini impurity model - max depth 3\n",
    "\n",
    "\n",
    "**4. Evaluating and concluding** \n",
    "- How many customers will buy Hidden Farm coffee?\n",
    "- Decision\n",
    "\n",
    "**5. Random Forest** \n",
    "- Import necessary modules\n",
    "- Model\n",
    "- Revise conclusion\n",
    "    "
   ]
  },
  {
   "cell_type": "markdown",
   "metadata": {
    "colab_type": "text",
    "id": "nciXGXtCDuVO"
   },
   "source": [
    "# 0. Overview\n",
    "\n",
    "This notebook uses decision trees to determine whether the factors of salary, gender, age, how much money the customer spent last week and during the preceding month on RR Diner Coffee products, how many kilogram coffee bags the customer bought over the last year, whether they have bought at least one RR Diner Coffee product online, and their distance from the flagship store in the USA, could predict whether customers would purchase the Hidden Farm coffee if a deal with its farmers were struck. "
   ]
  },
  {
   "cell_type": "markdown",
   "metadata": {
    "colab_type": "text",
    "id": "5fSgD2h9DuVP"
   },
   "source": [
    "# 1. Sourcing and loading\n",
    "## 1a. Import Packages"
   ]
  },
  {
   "cell_type": "code",
   "execution_count": 1,
   "metadata": {
    "colab": {},
    "colab_type": "code",
    "id": "CfGkTcLvDuVQ",
    "scrolled": true
   },
   "outputs": [],
   "source": [
    "import pandas as pd\n",
    "import numpy as np\n",
    "from sklearn import tree, metrics\n",
    "from sklearn.model_selection import train_test_split\n",
    "from sklearn.preprocessing import OneHotEncoder\n",
    "import graphviz\n",
    "import seaborn as sns\n",
    "import matplotlib.pyplot as plt\n",
    "from io import StringIO  \n",
    "from IPython.display import Image  \n",
    "import pydotplus"
   ]
  },
  {
   "cell_type": "markdown",
   "metadata": {
    "colab_type": "text",
    "id": "ZLgxyhNrDuVT"
   },
   "source": [
    "## 1b. Load data "
   ]
  },
  {
   "cell_type": "code",
   "execution_count": 2,
   "metadata": {
    "colab": {},
    "colab_type": "code",
    "id": "chW2ozlnDuVU"
   },
   "outputs": [],
   "source": [
    "# Read in the data to a variable called coffeeData\n",
    "coffeeData = pd.read_csv(\"data/RRDinerCoffeeData.csv\")"
   ]
  },
  {
   "cell_type": "markdown",
   "metadata": {
    "colab_type": "text",
    "id": "qnMVYf2NDuVW"
   },
   "source": [
    "## 1c. Explore the data"
   ]
  },
  {
   "cell_type": "markdown",
   "metadata": {
    "colab_type": "text",
    "id": "U5Qm4obyDuVX"
   },
   "source": [
    "As we've seen, exploration entails doing things like checking out the **initial appearance** of the data with head(), the **dimensions** of our data with .shape, the **data types** of the variables with .info(), the **number of non-null values**, how much **memory** is being used to store the data, and finally the major summary statistcs capturing **central tendancy, dispersion and the null-excluding shape of the dataset's distribution**. \n",
    "\n",
    "How much of this can you do yourself by this point in the course? Have a real go. "
   ]
  },
  {
   "cell_type": "code",
   "execution_count": 3,
   "metadata": {
    "colab": {},
    "colab_type": "code",
    "id": "cHEKFT4SDuVY",
    "scrolled": true
   },
   "outputs": [
    {
     "data": {
      "text/html": [
       "<div>\n",
       "<style scoped>\n",
       "    .dataframe tbody tr th:only-of-type {\n",
       "        vertical-align: middle;\n",
       "    }\n",
       "\n",
       "    .dataframe tbody tr th {\n",
       "        vertical-align: top;\n",
       "    }\n",
       "\n",
       "    .dataframe thead th {\n",
       "        text-align: right;\n",
       "    }\n",
       "</style>\n",
       "<table border=\"1\" class=\"dataframe\">\n",
       "  <thead>\n",
       "    <tr style=\"text-align: right;\">\n",
       "      <th></th>\n",
       "      <th>Age</th>\n",
       "      <th>Gender</th>\n",
       "      <th>num_coffeeBags_per_year</th>\n",
       "      <th>spent_week</th>\n",
       "      <th>spent_month</th>\n",
       "      <th>SlrAY</th>\n",
       "      <th>Distance</th>\n",
       "      <th>Online</th>\n",
       "      <th>Decision</th>\n",
       "    </tr>\n",
       "  </thead>\n",
       "  <tbody>\n",
       "    <tr>\n",
       "      <th>0</th>\n",
       "      <td>36</td>\n",
       "      <td>Female</td>\n",
       "      <td>0</td>\n",
       "      <td>24</td>\n",
       "      <td>73</td>\n",
       "      <td>42789</td>\n",
       "      <td>0.003168</td>\n",
       "      <td>0</td>\n",
       "      <td>1.0</td>\n",
       "    </tr>\n",
       "    <tr>\n",
       "      <th>1</th>\n",
       "      <td>24</td>\n",
       "      <td>Male</td>\n",
       "      <td>0</td>\n",
       "      <td>44</td>\n",
       "      <td>164</td>\n",
       "      <td>74035</td>\n",
       "      <td>0.520906</td>\n",
       "      <td>0</td>\n",
       "      <td>NaN</td>\n",
       "    </tr>\n",
       "    <tr>\n",
       "      <th>2</th>\n",
       "      <td>24</td>\n",
       "      <td>Male</td>\n",
       "      <td>0</td>\n",
       "      <td>39</td>\n",
       "      <td>119</td>\n",
       "      <td>30563</td>\n",
       "      <td>0.916005</td>\n",
       "      <td>1</td>\n",
       "      <td>1.0</td>\n",
       "    </tr>\n",
       "    <tr>\n",
       "      <th>3</th>\n",
       "      <td>20</td>\n",
       "      <td>Male</td>\n",
       "      <td>0</td>\n",
       "      <td>30</td>\n",
       "      <td>107</td>\n",
       "      <td>13166</td>\n",
       "      <td>0.932098</td>\n",
       "      <td>1</td>\n",
       "      <td>NaN</td>\n",
       "    </tr>\n",
       "    <tr>\n",
       "      <th>4</th>\n",
       "      <td>24</td>\n",
       "      <td>Female</td>\n",
       "      <td>0</td>\n",
       "      <td>20</td>\n",
       "      <td>36</td>\n",
       "      <td>14244</td>\n",
       "      <td>0.965881</td>\n",
       "      <td>0</td>\n",
       "      <td>1.0</td>\n",
       "    </tr>\n",
       "  </tbody>\n",
       "</table>\n",
       "</div>"
      ],
      "text/plain": [
       "   Age  Gender  num_coffeeBags_per_year  spent_week  spent_month  SlrAY  \\\n",
       "0   36  Female                        0          24           73  42789   \n",
       "1   24    Male                        0          44          164  74035   \n",
       "2   24    Male                        0          39          119  30563   \n",
       "3   20    Male                        0          30          107  13166   \n",
       "4   24  Female                        0          20           36  14244   \n",
       "\n",
       "   Distance  Online  Decision  \n",
       "0  0.003168       0       1.0  \n",
       "1  0.520906       0       NaN  \n",
       "2  0.916005       1       1.0  \n",
       "3  0.932098       1       NaN  \n",
       "4  0.965881       0       1.0  "
      ]
     },
     "execution_count": 3,
     "metadata": {},
     "output_type": "execute_result"
    }
   ],
   "source": [
    "# Call head() on your data \n",
    "coffeeData.head()"
   ]
  },
  {
   "cell_type": "code",
   "execution_count": 4,
   "metadata": {
    "colab": {},
    "colab_type": "code",
    "id": "rDshwA7tDuVa"
   },
   "outputs": [
    {
     "data": {
      "text/plain": [
       "(702, 9)"
      ]
     },
     "execution_count": 4,
     "metadata": {},
     "output_type": "execute_result"
    }
   ],
   "source": [
    "# Call .shape on your data\n",
    "coffeeData.shape"
   ]
  },
  {
   "cell_type": "code",
   "execution_count": 5,
   "metadata": {
    "colab": {},
    "colab_type": "code",
    "id": "iCxo0tomDuVc"
   },
   "outputs": [
    {
     "name": "stdout",
     "output_type": "stream",
     "text": [
      "<class 'pandas.core.frame.DataFrame'>\n",
      "RangeIndex: 702 entries, 0 to 701\n",
      "Data columns (total 9 columns):\n",
      " #   Column                   Non-Null Count  Dtype  \n",
      "---  ------                   --------------  -----  \n",
      " 0   Age                      702 non-null    int64  \n",
      " 1   Gender                   702 non-null    object \n",
      " 2   num_coffeeBags_per_year  702 non-null    int64  \n",
      " 3   spent_week               702 non-null    int64  \n",
      " 4   spent_month              702 non-null    int64  \n",
      " 5   SlrAY                    702 non-null    int64  \n",
      " 6   Distance                 702 non-null    float64\n",
      " 7   Online                   702 non-null    int64  \n",
      " 8   Decision                 474 non-null    float64\n",
      "dtypes: float64(2), int64(6), object(1)\n",
      "memory usage: 49.5+ KB\n"
     ]
    }
   ],
   "source": [
    "# Call info() on your data\n",
    "coffeeData.info()"
   ]
  },
  {
   "cell_type": "code",
   "execution_count": 6,
   "metadata": {
    "colab": {},
    "colab_type": "code",
    "id": "t0ZdmaUeDuVe"
   },
   "outputs": [
    {
     "data": {
      "text/html": [
       "<div>\n",
       "<style scoped>\n",
       "    .dataframe tbody tr th:only-of-type {\n",
       "        vertical-align: middle;\n",
       "    }\n",
       "\n",
       "    .dataframe tbody tr th {\n",
       "        vertical-align: top;\n",
       "    }\n",
       "\n",
       "    .dataframe thead th {\n",
       "        text-align: right;\n",
       "    }\n",
       "</style>\n",
       "<table border=\"1\" class=\"dataframe\">\n",
       "  <thead>\n",
       "    <tr style=\"text-align: right;\">\n",
       "      <th></th>\n",
       "      <th>Age</th>\n",
       "      <th>num_coffeeBags_per_year</th>\n",
       "      <th>spent_week</th>\n",
       "      <th>spent_month</th>\n",
       "      <th>SlrAY</th>\n",
       "      <th>Distance</th>\n",
       "      <th>Online</th>\n",
       "      <th>Decision</th>\n",
       "    </tr>\n",
       "  </thead>\n",
       "  <tbody>\n",
       "    <tr>\n",
       "      <th>count</th>\n",
       "      <td>702.000000</td>\n",
       "      <td>702.000000</td>\n",
       "      <td>702.000000</td>\n",
       "      <td>702.000000</td>\n",
       "      <td>702.000000</td>\n",
       "      <td>702.000000</td>\n",
       "      <td>702.000000</td>\n",
       "      <td>474.000000</td>\n",
       "    </tr>\n",
       "    <tr>\n",
       "      <th>mean</th>\n",
       "      <td>34.243590</td>\n",
       "      <td>2.710826</td>\n",
       "      <td>32.853276</td>\n",
       "      <td>107.923077</td>\n",
       "      <td>43819.843305</td>\n",
       "      <td>4.559186</td>\n",
       "      <td>0.531339</td>\n",
       "      <td>0.639241</td>\n",
       "    </tr>\n",
       "    <tr>\n",
       "      <th>std</th>\n",
       "      <td>13.927945</td>\n",
       "      <td>1.593629</td>\n",
       "      <td>15.731878</td>\n",
       "      <td>55.348485</td>\n",
       "      <td>26192.626943</td>\n",
       "      <td>3.116275</td>\n",
       "      <td>0.499373</td>\n",
       "      <td>0.480728</td>\n",
       "    </tr>\n",
       "    <tr>\n",
       "      <th>min</th>\n",
       "      <td>16.000000</td>\n",
       "      <td>0.000000</td>\n",
       "      <td>0.000000</td>\n",
       "      <td>0.000000</td>\n",
       "      <td>1617.000000</td>\n",
       "      <td>0.003168</td>\n",
       "      <td>0.000000</td>\n",
       "      <td>0.000000</td>\n",
       "    </tr>\n",
       "    <tr>\n",
       "      <th>25%</th>\n",
       "      <td>23.000000</td>\n",
       "      <td>1.000000</td>\n",
       "      <td>24.250000</td>\n",
       "      <td>62.000000</td>\n",
       "      <td>22812.250000</td>\n",
       "      <td>1.877812</td>\n",
       "      <td>0.000000</td>\n",
       "      <td>0.000000</td>\n",
       "    </tr>\n",
       "    <tr>\n",
       "      <th>50%</th>\n",
       "      <td>28.000000</td>\n",
       "      <td>3.000000</td>\n",
       "      <td>36.000000</td>\n",
       "      <td>113.500000</td>\n",
       "      <td>41975.000000</td>\n",
       "      <td>4.196167</td>\n",
       "      <td>1.000000</td>\n",
       "      <td>1.000000</td>\n",
       "    </tr>\n",
       "    <tr>\n",
       "      <th>75%</th>\n",
       "      <td>46.000000</td>\n",
       "      <td>4.000000</td>\n",
       "      <td>43.000000</td>\n",
       "      <td>150.750000</td>\n",
       "      <td>60223.000000</td>\n",
       "      <td>6.712022</td>\n",
       "      <td>1.000000</td>\n",
       "      <td>1.000000</td>\n",
       "    </tr>\n",
       "    <tr>\n",
       "      <th>max</th>\n",
       "      <td>90.000000</td>\n",
       "      <td>5.000000</td>\n",
       "      <td>62.000000</td>\n",
       "      <td>210.000000</td>\n",
       "      <td>182058.000000</td>\n",
       "      <td>10.986203</td>\n",
       "      <td>1.000000</td>\n",
       "      <td>1.000000</td>\n",
       "    </tr>\n",
       "  </tbody>\n",
       "</table>\n",
       "</div>"
      ],
      "text/plain": [
       "              Age  num_coffeeBags_per_year  spent_week  spent_month  \\\n",
       "count  702.000000               702.000000  702.000000   702.000000   \n",
       "mean    34.243590                 2.710826   32.853276   107.923077   \n",
       "std     13.927945                 1.593629   15.731878    55.348485   \n",
       "min     16.000000                 0.000000    0.000000     0.000000   \n",
       "25%     23.000000                 1.000000   24.250000    62.000000   \n",
       "50%     28.000000                 3.000000   36.000000   113.500000   \n",
       "75%     46.000000                 4.000000   43.000000   150.750000   \n",
       "max     90.000000                 5.000000   62.000000   210.000000   \n",
       "\n",
       "               SlrAY    Distance      Online    Decision  \n",
       "count     702.000000  702.000000  702.000000  474.000000  \n",
       "mean    43819.843305    4.559186    0.531339    0.639241  \n",
       "std     26192.626943    3.116275    0.499373    0.480728  \n",
       "min      1617.000000    0.003168    0.000000    0.000000  \n",
       "25%     22812.250000    1.877812    0.000000    0.000000  \n",
       "50%     41975.000000    4.196167    1.000000    1.000000  \n",
       "75%     60223.000000    6.712022    1.000000    1.000000  \n",
       "max    182058.000000   10.986203    1.000000    1.000000  "
      ]
     },
     "execution_count": 6,
     "metadata": {},
     "output_type": "execute_result"
    }
   ],
   "source": [
    "# Call describe() on your data to get the relevant summary statistics for your data \n",
    "coffeeData.describe()"
   ]
  },
  {
   "cell_type": "markdown",
   "metadata": {
    "colab_type": "text",
    "id": "INkujJ6QDuVg"
   },
   "source": [
    "# 2. Cleaning, transforming and visualizing\n",
    "## 2a. Cleaning the data"
   ]
  },
  {
   "cell_type": "markdown",
   "metadata": {
    "colab_type": "text",
    "id": "wIMW_rbdDuVh"
   },
   "source": [
    "Some datasets don't require any cleaning, but almost all do. This one does. We need to replace '1.0' and '0.0' in the 'Decision' column by 'YES' and 'NO' respectively, clean up the values of the 'gender' column, and change the column names to words which maximize meaning and clarity. "
   ]
  },
  {
   "cell_type": "markdown",
   "metadata": {
    "colab_type": "text",
    "id": "EEXdBALeDuVi"
   },
   "source": [
    "First, let's change the name of `spent_week`, `spent_month`, and `SlrAY` to `spent_last_week` and `spent_last_month` and `salary` respectively."
   ]
  },
  {
   "cell_type": "code",
   "execution_count": 7,
   "metadata": {
    "colab": {},
    "colab_type": "code",
    "id": "rhxy23pbDuVi"
   },
   "outputs": [
    {
     "data": {
      "text/plain": [
       "Index(['Age', 'Gender', 'num_coffeeBags_per_year', 'spent_week', 'spent_month',\n",
       "       'SlrAY', 'Distance', 'Online', 'Decision'],\n",
       "      dtype='object')"
      ]
     },
     "execution_count": 7,
     "metadata": {},
     "output_type": "execute_result"
    }
   ],
   "source": [
    "# Check out the names of our data's columns \n",
    "coffeeData.columns"
   ]
  },
  {
   "cell_type": "code",
   "execution_count": 8,
   "metadata": {
    "colab": {},
    "colab_type": "code",
    "id": "C_D1m6ryDuVk"
   },
   "outputs": [],
   "source": [
    "# Make the relevant name changes to spent_week and spent_per_week.\n",
    "coffeeData = coffeeData.rename(columns={\"spent_week\": \"spent_last_week\", \"spent_month\": \"spent_last_month\", \"SlrAY\": \"salary\"}) "
   ]
  },
  {
   "cell_type": "code",
   "execution_count": 9,
   "metadata": {
    "colab": {},
    "colab_type": "code",
    "id": "3cmdaeg8DuVm"
   },
   "outputs": [
    {
     "data": {
      "text/plain": [
       "Index(['Age', 'Gender', 'num_coffeeBags_per_year', 'spent_last_week',\n",
       "       'spent_last_month', 'salary', 'Distance', 'Online', 'Decision'],\n",
       "      dtype='object')"
      ]
     },
     "execution_count": 9,
     "metadata": {},
     "output_type": "execute_result"
    }
   ],
   "source": [
    "# Check out the column names\n",
    "coffeeData.columns"
   ]
  },
  {
   "cell_type": "code",
   "execution_count": 10,
   "metadata": {
    "colab": {},
    "colab_type": "code",
    "id": "XJK-wbfODuVp"
   },
   "outputs": [
    {
     "data": {
      "text/plain": [
       "0      Female\n",
       "1        Male\n",
       "2        Male\n",
       "3        Male\n",
       "4      Female\n",
       "        ...  \n",
       "697    Female\n",
       "698      Male\n",
       "699      Male\n",
       "700    Female\n",
       "701      Male\n",
       "Name: Gender, Length: 702, dtype: object"
      ]
     },
     "execution_count": 10,
     "metadata": {},
     "output_type": "execute_result"
    }
   ],
   "source": [
    "# Let's have a closer look at the gender column. Its values need cleaning.\n",
    "coffeeData['Gender']"
   ]
  },
  {
   "cell_type": "code",
   "execution_count": 11,
   "metadata": {
    "colab": {},
    "colab_type": "code",
    "id": "88bITtgzDuVr"
   },
   "outputs": [
    {
     "data": {
      "text/plain": [
       "array(['Female', 'Male', 'female', 'F', 'f ', 'FEMALE', 'MALE', 'male',\n",
       "       'M'], dtype=object)"
      ]
     },
     "execution_count": 11,
     "metadata": {},
     "output_type": "execute_result"
    }
   ],
   "source": [
    "# See the gender column's unique values \n",
    "coffeeData[\"Gender\"].unique()"
   ]
  },
  {
   "cell_type": "markdown",
   "metadata": {
    "colab_type": "text",
    "id": "-eGzgGR1DuVt"
   },
   "source": [
    "We can see a bunch of inconsistency here.\n",
    "\n",
    "Use replace() to make the values of the `gender` column just `Female` and `Male`."
   ]
  },
  {
   "cell_type": "code",
   "execution_count": 12,
   "metadata": {
    "colab": {},
    "colab_type": "code",
    "id": "h0FOX3I3DuVu"
   },
   "outputs": [],
   "source": [
    "# Replace all alternate values for the Female entry with 'Female'\n",
    "coffeeData[\"Gender\"] = coffeeData[\"Gender\"].replace(['female', 'f ', 'F', 'FEMALE'], \"Female\")"
   ]
  },
  {
   "cell_type": "code",
   "execution_count": 13,
   "metadata": {
    "colab": {},
    "colab_type": "code",
    "id": "5TThfHgCDuVw"
   },
   "outputs": [
    {
     "data": {
      "text/plain": [
       "array(['Female', 'Male', 'MALE', 'male', 'M'], dtype=object)"
      ]
     },
     "execution_count": 13,
     "metadata": {},
     "output_type": "execute_result"
    }
   ],
   "source": [
    "# Check out the unique values for the 'gender' column\n",
    "coffeeData[\"Gender\"].unique()"
   ]
  },
  {
   "cell_type": "code",
   "execution_count": 14,
   "metadata": {
    "colab": {},
    "colab_type": "code",
    "id": "4wRKBvSHDuVy"
   },
   "outputs": [],
   "source": [
    "# Replace all alternate values with \"Male\"\n",
    "coffeeData[\"Gender\"] = coffeeData[\"Gender\"].replace(['male', 'm', 'M', 'MALE'], \"Male\")"
   ]
  },
  {
   "cell_type": "code",
   "execution_count": 15,
   "metadata": {
    "colab": {},
    "colab_type": "code",
    "id": "nhBUkXIADuV0"
   },
   "outputs": [
    {
     "data": {
      "text/plain": [
       "array(['Female', 'Male'], dtype=object)"
      ]
     },
     "execution_count": 15,
     "metadata": {},
     "output_type": "execute_result"
    }
   ],
   "source": [
    "# Let's check the unique values of the column \"gender\"\n",
    "coffeeData[\"Gender\"].unique()"
   ]
  },
  {
   "cell_type": "code",
   "execution_count": 16,
   "metadata": {
    "colab": {},
    "colab_type": "code",
    "id": "AdhhO4WHDuV2"
   },
   "outputs": [
    {
     "data": {
      "text/plain": [
       "array([ 1., nan,  0.])"
      ]
     },
     "execution_count": 16,
     "metadata": {},
     "output_type": "execute_result"
    }
   ],
   "source": [
    "# Check out the unique values of the column 'Decision'\n",
    "coffeeData[\"Decision\"].unique() "
   ]
  },
  {
   "cell_type": "markdown",
   "metadata": {
    "colab_type": "text",
    "id": "m1JuiY-iDuV5"
   },
   "source": [
    "We now want to replace `1.0` and `0.0` in the `Decision` column by `YES` and `NO` respectively."
   ]
  },
  {
   "cell_type": "code",
   "execution_count": 17,
   "metadata": {
    "colab": {},
    "colab_type": "code",
    "id": "QsK6gYPgDuV5"
   },
   "outputs": [],
   "source": [
    "# Replace 1.0 and 0.0 by 'Yes' and 'No'\n",
    "coffeeData[\"Decision\"] = coffeeData[\"Decision\"].replace({1.0:\"Yes\", 0.0:\"No\"})"
   ]
  },
  {
   "cell_type": "code",
   "execution_count": 18,
   "metadata": {
    "colab": {},
    "colab_type": "code",
    "id": "YtHnTZuWDuV9"
   },
   "outputs": [
    {
     "data": {
      "text/plain": [
       "array(['Yes', nan, 'No'], dtype=object)"
      ]
     },
     "execution_count": 18,
     "metadata": {},
     "output_type": "execute_result"
    }
   ],
   "source": [
    "# Check that our replacing those values with 'YES' and 'NO' worked, with unique()\n",
    "coffeeData[\"Decision\"].unique()"
   ]
  },
  {
   "cell_type": "markdown",
   "metadata": {
    "colab_type": "text",
    "id": "CKCt-fBlDuWB"
   },
   "source": [
    "## 2b. Train/test split\n",
    "To execute the train/test split properly, we need to do five things: \n",
    "1. Drop all rows with a null value in the `Decision` column, and save the result as NOPrediction: a dataset that will contain all known values for the decision \n",
    "2. Visualize the data using scatter and boxplots of several variables in the y-axis and the decision on the x-axis\n",
    "3. Get the subset of coffeeData with null values in the `Decision` column, and save that subset as Prediction\n",
    "4. Divide the NOPrediction subset into X and y, and then further divide those subsets into train and test subsets for X and y respectively\n",
    "5. Create dummy variables to deal with categorical inputs"
   ]
  },
  {
   "cell_type": "markdown",
   "metadata": {
    "colab_type": "text",
    "id": "ysHdkIaQDuWB"
   },
   "source": [
    "### 1. Drop all null values within the `Decision` column, and save the result as NoPrediction"
   ]
  },
  {
   "cell_type": "code",
   "execution_count": 19,
   "metadata": {
    "colab": {},
    "colab_type": "code",
    "id": "pvgH6SM4DuWC"
   },
   "outputs": [
    {
     "data": {
      "text/plain": [
       "count     474\n",
       "unique      2\n",
       "top       Yes\n",
       "freq      303\n",
       "Name: Decision, dtype: object"
      ]
     },
     "execution_count": 19,
     "metadata": {},
     "output_type": "execute_result"
    }
   ],
   "source": [
    "# NoPrediction will contain all known values for the decision\n",
    "# Call dropna() on coffeeData, and store the result in a variable NOPrediction \n",
    "# Call describe() on the Decision column of NoPrediction after calling dropna() on coffeeData\n",
    "NOPrediction = coffeeData.dropna()\n",
    "NOPrediction[\"Decision\"].describe()"
   ]
  },
  {
   "cell_type": "markdown",
   "metadata": {
    "colab_type": "text",
    "id": "XfTK5Ec6DuWE"
   },
   "source": [
    "### 2. Visualize the data using scatter and boxplots of several variables in the y-axis and the decision on the x-axis"
   ]
  },
  {
   "cell_type": "code",
   "execution_count": 20,
   "metadata": {
    "colab": {},
    "colab_type": "code",
    "id": "5O-M-t3tDuWE"
   },
   "outputs": [
    {
     "data": {
      "image/png": "[encoded data removed]",
      "text/plain": [
       "<Figure size 432x288 with 1 Axes>"
      ]
     },
     "metadata": {
      "needs_background": "light"
     },
     "output_type": "display_data"
    }
   ],
   "source": [
    "# Exploring our new NOPrediction dataset\n",
    "# Make a boxplot on NOPrediction where the x axis is Decision, and the y axis is spent_last_week\n",
    "sns.boxplot(data=NOPrediction,x=\"Decision\", y=\"spent_last_week\")\n",
    "plt.show()"
   ]
  },
  {
   "cell_type": "markdown",
   "metadata": {
    "colab_type": "text",
    "id": "mVqg_HI7DuWG"
   },
   "source": [
    "Can you admissibly conclude anything from this boxplot? Write your answer here:\n",
    "\n",
    "Customers who indicated that they were interested in the new coffee from Hidden Farm tended to spend more money in the last week than those who weren't. There seems to be some indication that spending more money in the last week indicates an increased likelihood of buying Hidden Farm coffee beans. (Assuming that customers' who answered yes will actually follow through and buy the coffee.)"
   ]
  },
  {
   "cell_type": "code",
   "execution_count": 21,
   "metadata": {
    "colab": {},
    "colab_type": "code",
    "id": "q-AyXWSxDuWH"
   },
   "outputs": [
    {
     "data": {
      "image/png": "[encoded data removed]",
      "text/plain": [
       "<Figure size 432x288 with 1 Axes>"
      ]
     },
     "metadata": {
      "needs_background": "light"
     },
     "output_type": "display_data"
    }
   ],
   "source": [
    "# Make a scatterplot on NOPrediction, where x is distance, y is spent_last_month and hue is Decision \n",
    "# plt.scatter(x=NOPrediction[\"Distance\"], y=NOPrediction[\"spent_last_month\"], c=NOPrediction[\"Decision\"])\n",
    "sns.scatterplot(x='Distance', y='spent_last_month', data=NOPrediction, hue='Decision')\n",
    "plt.xlabel(\"Distance\")\n",
    "plt.ylabel(\"Spent Last Month\")\n",
    "plt.title(\"Distance vs. Spent Last Month\")\n",
    "plt.show()"
   ]
  },
  {
   "cell_type": "markdown",
   "metadata": {
    "colab_type": "text",
    "id": "I_nr36yZDuWJ"
   },
   "source": [
    "Can you admissibly conclude anything from this scatterplot? Remember: we are trying to build a tree to classify unseen examples. Write your answer here:\n",
    "Again, customers who spent more/the most money in the last month seem to say yes to Hidden Farm coffee beans. Distance from the flagship store does not appear to influence the decision to buy."
   ]
  },
  {
   "cell_type": "markdown",
   "metadata": {
    "colab_type": "text",
    "id": "oQBPyvehDuWK"
   },
   "source": [
    "### 3. Get the subset of coffeeData with null values in the Decision column, and save that subset as Prediction"
   ]
  },
  {
   "cell_type": "code",
   "execution_count": 22,
   "metadata": {
    "colab": {},
    "colab_type": "code",
    "id": "vcCednqUDuWL"
   },
   "outputs": [
    {
     "data": {
      "text/html": [
       "<div>\n",
       "<style scoped>\n",
       "    .dataframe tbody tr th:only-of-type {\n",
       "        vertical-align: middle;\n",
       "    }\n",
       "\n",
       "    .dataframe tbody tr th {\n",
       "        vertical-align: top;\n",
       "    }\n",
       "\n",
       "    .dataframe thead th {\n",
       "        text-align: right;\n",
       "    }\n",
       "</style>\n",
       "<table border=\"1\" class=\"dataframe\">\n",
       "  <thead>\n",
       "    <tr style=\"text-align: right;\">\n",
       "      <th></th>\n",
       "      <th>Age</th>\n",
       "      <th>Gender</th>\n",
       "      <th>num_coffeeBags_per_year</th>\n",
       "      <th>spent_last_week</th>\n",
       "      <th>spent_last_month</th>\n",
       "      <th>salary</th>\n",
       "      <th>Distance</th>\n",
       "      <th>Online</th>\n",
       "      <th>Decision</th>\n",
       "    </tr>\n",
       "  </thead>\n",
       "  <tbody>\n",
       "    <tr>\n",
       "      <th>1</th>\n",
       "      <td>24</td>\n",
       "      <td>Male</td>\n",
       "      <td>0</td>\n",
       "      <td>44</td>\n",
       "      <td>164</td>\n",
       "      <td>74035</td>\n",
       "      <td>0.520906</td>\n",
       "      <td>0</td>\n",
       "      <td>NaN</td>\n",
       "    </tr>\n",
       "    <tr>\n",
       "      <th>3</th>\n",
       "      <td>20</td>\n",
       "      <td>Male</td>\n",
       "      <td>0</td>\n",
       "      <td>30</td>\n",
       "      <td>107</td>\n",
       "      <td>13166</td>\n",
       "      <td>0.932098</td>\n",
       "      <td>1</td>\n",
       "      <td>NaN</td>\n",
       "    </tr>\n",
       "    <tr>\n",
       "      <th>7</th>\n",
       "      <td>24</td>\n",
       "      <td>Female</td>\n",
       "      <td>0</td>\n",
       "      <td>20</td>\n",
       "      <td>34</td>\n",
       "      <td>17425</td>\n",
       "      <td>1.193188</td>\n",
       "      <td>0</td>\n",
       "      <td>NaN</td>\n",
       "    </tr>\n",
       "    <tr>\n",
       "      <th>11</th>\n",
       "      <td>24</td>\n",
       "      <td>Female</td>\n",
       "      <td>0</td>\n",
       "      <td>40</td>\n",
       "      <td>153</td>\n",
       "      <td>84803</td>\n",
       "      <td>1.655096</td>\n",
       "      <td>1</td>\n",
       "      <td>NaN</td>\n",
       "    </tr>\n",
       "    <tr>\n",
       "      <th>12</th>\n",
       "      <td>21</td>\n",
       "      <td>Female</td>\n",
       "      <td>0</td>\n",
       "      <td>38</td>\n",
       "      <td>122</td>\n",
       "      <td>42338</td>\n",
       "      <td>1.714179</td>\n",
       "      <td>1</td>\n",
       "      <td>NaN</td>\n",
       "    </tr>\n",
       "  </tbody>\n",
       "</table>\n",
       "</div>"
      ],
      "text/plain": [
       "    Age  Gender  num_coffeeBags_per_year  spent_last_week  spent_last_month  \\\n",
       "1    24    Male                        0               44               164   \n",
       "3    20    Male                        0               30               107   \n",
       "7    24  Female                        0               20                34   \n",
       "11   24  Female                        0               40               153   \n",
       "12   21  Female                        0               38               122   \n",
       "\n",
       "    salary  Distance  Online Decision  \n",
       "1    74035  0.520906       0      NaN  \n",
       "3    13166  0.932098       1      NaN  \n",
       "7    17425  1.193188       0      NaN  \n",
       "11   84803  1.655096       1      NaN  \n",
       "12   42338  1.714179       1      NaN  "
      ]
     },
     "execution_count": 22,
     "metadata": {},
     "output_type": "execute_result"
    }
   ],
   "source": [
    "# Get just those rows whose value for the Decision column is null  \n",
    "Prediction = coffeeData[coffeeData[\"Decision\"].isna()]\n",
    "Prediction.head()"
   ]
  },
  {
   "cell_type": "code",
   "execution_count": 23,
   "metadata": {
    "colab": {},
    "colab_type": "code",
    "id": "aenlmp9NDuWM"
   },
   "outputs": [
    {
     "data": {
      "text/html": [
       "<div>\n",
       "<style scoped>\n",
       "    .dataframe tbody tr th:only-of-type {\n",
       "        vertical-align: middle;\n",
       "    }\n",
       "\n",
       "    .dataframe tbody tr th {\n",
       "        vertical-align: top;\n",
       "    }\n",
       "\n",
       "    .dataframe thead th {\n",
       "        text-align: right;\n",
       "    }\n",
       "</style>\n",
       "<table border=\"1\" class=\"dataframe\">\n",
       "  <thead>\n",
       "    <tr style=\"text-align: right;\">\n",
       "      <th></th>\n",
       "      <th>Age</th>\n",
       "      <th>num_coffeeBags_per_year</th>\n",
       "      <th>spent_last_week</th>\n",
       "      <th>spent_last_month</th>\n",
       "      <th>salary</th>\n",
       "      <th>Distance</th>\n",
       "      <th>Online</th>\n",
       "    </tr>\n",
       "  </thead>\n",
       "  <tbody>\n",
       "    <tr>\n",
       "      <th>count</th>\n",
       "      <td>228.000000</td>\n",
       "      <td>228.000000</td>\n",
       "      <td>228.000000</td>\n",
       "      <td>228.000000</td>\n",
       "      <td>228.000000</td>\n",
       "      <td>228.000000</td>\n",
       "      <td>228.000000</td>\n",
       "    </tr>\n",
       "    <tr>\n",
       "      <th>mean</th>\n",
       "      <td>31.802632</td>\n",
       "      <td>2.960526</td>\n",
       "      <td>33.394737</td>\n",
       "      <td>110.407895</td>\n",
       "      <td>41923.741228</td>\n",
       "      <td>3.428836</td>\n",
       "      <td>0.570175</td>\n",
       "    </tr>\n",
       "    <tr>\n",
       "      <th>std</th>\n",
       "      <td>14.302293</td>\n",
       "      <td>1.585514</td>\n",
       "      <td>15.697930</td>\n",
       "      <td>53.786536</td>\n",
       "      <td>27406.768360</td>\n",
       "      <td>2.153102</td>\n",
       "      <td>0.496140</td>\n",
       "    </tr>\n",
       "    <tr>\n",
       "      <th>min</th>\n",
       "      <td>16.000000</td>\n",
       "      <td>0.000000</td>\n",
       "      <td>0.000000</td>\n",
       "      <td>0.000000</td>\n",
       "      <td>1617.000000</td>\n",
       "      <td>0.010048</td>\n",
       "      <td>0.000000</td>\n",
       "    </tr>\n",
       "    <tr>\n",
       "      <th>25%</th>\n",
       "      <td>22.000000</td>\n",
       "      <td>2.000000</td>\n",
       "      <td>25.750000</td>\n",
       "      <td>65.000000</td>\n",
       "      <td>15911.500000</td>\n",
       "      <td>1.699408</td>\n",
       "      <td>0.000000</td>\n",
       "    </tr>\n",
       "    <tr>\n",
       "      <th>50%</th>\n",
       "      <td>25.000000</td>\n",
       "      <td>3.000000</td>\n",
       "      <td>37.000000</td>\n",
       "      <td>113.500000</td>\n",
       "      <td>40987.500000</td>\n",
       "      <td>3.208673</td>\n",
       "      <td>1.000000</td>\n",
       "    </tr>\n",
       "    <tr>\n",
       "      <th>75%</th>\n",
       "      <td>39.000000</td>\n",
       "      <td>4.000000</td>\n",
       "      <td>44.000000</td>\n",
       "      <td>151.250000</td>\n",
       "      <td>58537.000000</td>\n",
       "      <td>5.261184</td>\n",
       "      <td>1.000000</td>\n",
       "    </tr>\n",
       "    <tr>\n",
       "      <th>max</th>\n",
       "      <td>67.000000</td>\n",
       "      <td>5.000000</td>\n",
       "      <td>62.000000</td>\n",
       "      <td>210.000000</td>\n",
       "      <td>182058.000000</td>\n",
       "      <td>10.871566</td>\n",
       "      <td>1.000000</td>\n",
       "    </tr>\n",
       "  </tbody>\n",
       "</table>\n",
       "</div>"
      ],
      "text/plain": [
       "              Age  num_coffeeBags_per_year  spent_last_week  spent_last_month  \\\n",
       "count  228.000000               228.000000       228.000000        228.000000   \n",
       "mean    31.802632                 2.960526        33.394737        110.407895   \n",
       "std     14.302293                 1.585514        15.697930         53.786536   \n",
       "min     16.000000                 0.000000         0.000000          0.000000   \n",
       "25%     22.000000                 2.000000        25.750000         65.000000   \n",
       "50%     25.000000                 3.000000        37.000000        113.500000   \n",
       "75%     39.000000                 4.000000        44.000000        151.250000   \n",
       "max     67.000000                 5.000000        62.000000        210.000000   \n",
       "\n",
       "              salary    Distance      Online  \n",
       "count     228.000000  228.000000  228.000000  \n",
       "mean    41923.741228    3.428836    0.570175  \n",
       "std     27406.768360    2.153102    0.496140  \n",
       "min      1617.000000    0.010048    0.000000  \n",
       "25%     15911.500000    1.699408    0.000000  \n",
       "50%     40987.500000    3.208673    1.000000  \n",
       "75%     58537.000000    5.261184    1.000000  \n",
       "max    182058.000000   10.871566    1.000000  "
      ]
     },
     "execution_count": 23,
     "metadata": {},
     "output_type": "execute_result"
    }
   ],
   "source": [
    "# Call describe() on Prediction\n",
    "Prediction.describe()"
   ]
  },
  {
   "cell_type": "markdown",
   "metadata": {
    "colab_type": "text",
    "id": "zmN_BPwFDuWO"
   },
   "source": [
    "### 4. Divide the NOPrediction subset into X and y"
   ]
  },
  {
   "cell_type": "code",
   "execution_count": 24,
   "metadata": {
    "colab": {},
    "colab_type": "code",
    "id": "00WtPVYSDuWP"
   },
   "outputs": [
    {
     "data": {
      "text/plain": [
       "Index(['Age', 'Gender', 'num_coffeeBags_per_year', 'spent_last_week',\n",
       "       'spent_last_month', 'salary', 'Distance', 'Online', 'Decision'],\n",
       "      dtype='object')"
      ]
     },
     "execution_count": 24,
     "metadata": {},
     "output_type": "execute_result"
    }
   ],
   "source": [
    "# Check the names of the columns of NOPrediction\n",
    "NOPrediction.columns"
   ]
  },
  {
   "cell_type": "code",
   "execution_count": 25,
   "metadata": {
    "colab": {},
    "colab_type": "code",
    "id": "oPi2gMLfDuWQ"
   },
   "outputs": [],
   "source": [
    "# Let's do our feature selection.\n",
    "# Make a variable called 'features', and a list containing the strings of every column except \"Decision\"\n",
    "features = [feature for feature in NOPrediction.columns if feature != \"Decision\"]\n",
    "\n",
    "# Make an explanatory variable called X, and assign it: NoPrediction[features]\n",
    "X = NOPrediction[features]\n",
    "\n",
    "# Make a dependent variable called y, and assign it: NoPrediction.Decision\n",
    "y = NOPrediction.Decision"
   ]
  },
  {
   "cell_type": "markdown",
   "metadata": {
    "colab_type": "text",
    "id": "R-d3XOv8DuWW"
   },
   "source": [
    "### 5. Create dummy variables to deal with categorical inputs\n",
    "One-hot encoding replaces each unique value of a given column with a new column, and puts a 1 in the new column for a given row just if its initial value for the original column matches the new column. Check out [this resource](https://hackernoon.com/what-is-one-hot-encoding-why-and-when-do-you-have-to-use-it-e3c6186d008f) if you haven't seen one-hot-encoding before. \n",
    "\n",
    "**Note**: We will do this before we do our train/test split as to do it after could mean that some categories only end up in the train or test split of our data by chance and this would then lead to different shapes of data for our `X_train` and `X_test` which could/would cause downstream issues when fitting or predicting using a trained model."
   ]
  },
  {
   "cell_type": "code",
   "execution_count": 26,
   "metadata": {
    "colab": {},
    "colab_type": "code",
    "id": "xXHGDZkZDuWW"
   },
   "outputs": [
    {
     "data": {
      "text/html": [
       "<div>\n",
       "<style scoped>\n",
       "    .dataframe tbody tr th:only-of-type {\n",
       "        vertical-align: middle;\n",
       "    }\n",
       "\n",
       "    .dataframe tbody tr th {\n",
       "        vertical-align: top;\n",
       "    }\n",
       "\n",
       "    .dataframe thead th {\n",
       "        text-align: right;\n",
       "    }\n",
       "</style>\n",
       "<table border=\"1\" class=\"dataframe\">\n",
       "  <thead>\n",
       "    <tr style=\"text-align: right;\">\n",
       "      <th></th>\n",
       "      <th>Age</th>\n",
       "      <th>num_coffeeBags_per_year</th>\n",
       "      <th>spent_last_week</th>\n",
       "      <th>spent_last_month</th>\n",
       "      <th>salary</th>\n",
       "      <th>Distance</th>\n",
       "      <th>Online</th>\n",
       "      <th>Gender_Female</th>\n",
       "      <th>Gender_Male</th>\n",
       "    </tr>\n",
       "  </thead>\n",
       "  <tbody>\n",
       "    <tr>\n",
       "      <th>0</th>\n",
       "      <td>36</td>\n",
       "      <td>0</td>\n",
       "      <td>24</td>\n",
       "      <td>73</td>\n",
       "      <td>42789</td>\n",
       "      <td>0.003168</td>\n",
       "      <td>0</td>\n",
       "      <td>1</td>\n",
       "      <td>0</td>\n",
       "    </tr>\n",
       "    <tr>\n",
       "      <th>2</th>\n",
       "      <td>24</td>\n",
       "      <td>0</td>\n",
       "      <td>39</td>\n",
       "      <td>119</td>\n",
       "      <td>30563</td>\n",
       "      <td>0.916005</td>\n",
       "      <td>1</td>\n",
       "      <td>0</td>\n",
       "      <td>1</td>\n",
       "    </tr>\n",
       "    <tr>\n",
       "      <th>4</th>\n",
       "      <td>24</td>\n",
       "      <td>0</td>\n",
       "      <td>20</td>\n",
       "      <td>36</td>\n",
       "      <td>14244</td>\n",
       "      <td>0.965881</td>\n",
       "      <td>0</td>\n",
       "      <td>1</td>\n",
       "      <td>0</td>\n",
       "    </tr>\n",
       "    <tr>\n",
       "      <th>5</th>\n",
       "      <td>20</td>\n",
       "      <td>0</td>\n",
       "      <td>23</td>\n",
       "      <td>28</td>\n",
       "      <td>14293</td>\n",
       "      <td>1.036346</td>\n",
       "      <td>1</td>\n",
       "      <td>1</td>\n",
       "      <td>0</td>\n",
       "    </tr>\n",
       "    <tr>\n",
       "      <th>6</th>\n",
       "      <td>34</td>\n",
       "      <td>0</td>\n",
       "      <td>55</td>\n",
       "      <td>202</td>\n",
       "      <td>91035</td>\n",
       "      <td>1.134851</td>\n",
       "      <td>0</td>\n",
       "      <td>1</td>\n",
       "      <td>0</td>\n",
       "    </tr>\n",
       "  </tbody>\n",
       "</table>\n",
       "</div>"
      ],
      "text/plain": [
       "   Age  num_coffeeBags_per_year  spent_last_week  spent_last_month  salary  \\\n",
       "0   36                        0               24                73   42789   \n",
       "2   24                        0               39               119   30563   \n",
       "4   24                        0               20                36   14244   \n",
       "5   20                        0               23                28   14293   \n",
       "6   34                        0               55               202   91035   \n",
       "\n",
       "   Distance  Online  Gender_Female  Gender_Male  \n",
       "0  0.003168       0              1            0  \n",
       "2  0.916005       1              0            1  \n",
       "4  0.965881       0              1            0  \n",
       "5  1.036346       1              1            0  \n",
       "6  1.134851       0              1            0  "
      ]
     },
     "execution_count": 26,
     "metadata": {},
     "output_type": "execute_result"
    }
   ],
   "source": [
    "# One-hot encode all features in X.\n",
    "X = pd.get_dummies(X)\n",
    "X.head()"
   ]
  },
  {
   "cell_type": "markdown",
   "metadata": {
    "colab_type": "text",
    "id": "Jdn_dHlkDuWS"
   },
   "source": [
    "### 6. Further divide those subsets into train and test subsets for X and y respectively: X_train, X_test, y_train, y_test"
   ]
  },
  {
   "cell_type": "code",
   "execution_count": 27,
   "metadata": {
    "colab": {},
    "colab_type": "code",
    "id": "RqbHQza-DuWT"
   },
   "outputs": [],
   "source": [
    "# Call train_test_split on X, y. Make the test_size = 0.25, and random_state = 246\n",
    "X_train, X_test, y_train, y_test = train_test_split(X, y, test_size=0.25, random_state=246)"
   ]
  },
  {
   "cell_type": "markdown",
   "metadata": {
    "colab_type": "text",
    "id": "nqvyCX-6DuWb"
   },
   "source": [
    "# 3. Modelling\n",
    "It's useful to look at the scikit-learn documentation on decision trees https://scikit-learn.org/stable/modules/tree.html before launching into applying them. If you haven't seen them before, take a look at that link, in particular the section `1.10.5.` "
   ]
  },
  {
   "cell_type": "markdown",
   "metadata": {
    "colab_type": "text",
    "id": "RIm9IN5HDuWc"
   },
   "source": [
    "## Model 1: Entropy model - no max_depth\n",
    "\n",
    "We'll give you a little more guidance here, as the Python is hard to deduce, and scikitlearn takes some getting used to.\n",
    "\n",
    "Theoretically, let's remind ourselves of what's going on with a decision tree implementing an entropy model.\n",
    "\n",
    "Ross Quinlan's **ID3 Algorithm** was one of the first, and one of the most basic, to use entropy as a metric.\n",
    "\n",
    "**Entropy** is a measure of how uncertain we are about which category the data-points fall into at a given point in the tree. The **Information gain** of a specific feature with a threshold (such as 'spent_last_month <= 138.0') is the difference in entropy that exists before and after splitting on that feature; i.e., the information we gain about the categories of the data-points by splitting on that feature and that threshold. \n",
    "\n",
    "Naturally, we want to minimize entropy and maximize information gain. Quinlan's ID3 algorithm is designed to output a tree such that the features at each node, starting from the root, and going all the way down to the leaves, have maximial information gain. We want a tree whose leaves have elements that are *homogeneous*, that is, all of the same category. \n",
    "\n",
    "The first model will be the hardest. Persevere and you'll reap the rewards: you can use almost exactly the same code for the other models. "
   ]
  },
  {
   "cell_type": "code",
   "execution_count": 28,
   "metadata": {
    "colab": {},
    "colab_type": "code",
    "id": "8-gelLDgDuWc"
   },
   "outputs": [
    {
     "data": {
      "text/plain": [
       "DecisionTreeClassifier(criterion='entropy', random_state=1234)"
      ]
     },
     "execution_count": 28,
     "metadata": {},
     "output_type": "execute_result"
    }
   ],
   "source": [
    "# Declare a variable called entr_model and use tree.DecisionTreeClassifier. \n",
    "entr_model = tree.DecisionTreeClassifier(criterion=\"entropy\", random_state = 1234)\n",
    "\n",
    "# Call fit() on entr_model\n",
    "entr_model.fit(X_train, y_train) \n",
    "\n",
    "# Call predict() on entr_model with X_test passed to it, and assign the result to a variable y_pred \n",
    "y_pred = entr_model.predict(X_test)\n",
    "\n",
    "# Call Series on our y_pred variable with the following: pd.Series(y_pred)\n",
    "pd.Series(y_pred)\n",
    "\n",
    "# Check out entr_model\n",
    "entr_model"
   ]
  },
  {
   "cell_type": "code",
   "execution_count": 29,
   "metadata": {
    "colab": {},
    "colab_type": "code",
    "id": "S4FbHfWnDuWe",
    "scrolled": true
   },
   "outputs": [
    {
     "name": "stdout",
     "output_type": "stream",
     "text": [
      "~~~~~ VISUALIZE TREE: EXPORT TEXT ~~~~~\n",
      "|--- feature_3 <= 138.00\n",
      "|   |--- feature_5 <= 3.52\n",
      "|   |   |--- feature_3 <= 24.50\n",
      "|   |   |   |--- class: No\n",
      "|   |   |--- feature_3 >  24.50\n",
      "|   |   |   |--- feature_0 <= 59.00\n",
      "|   |   |   |   |--- class: Yes\n",
      "|   |   |   |--- feature_0 >  59.00\n",
      "|   |   |   |   |--- class: No\n",
      "|   |--- feature_5 >  3.52\n",
      "|   |   |--- feature_3 <= 101.00\n",
      "|   |   |   |--- feature_5 <= 4.00\n",
      "|   |   |   |   |--- feature_0 <= 26.50\n",
      "|   |   |   |   |   |--- class: Yes\n",
      "|   |   |   |   |--- feature_0 >  26.50\n",
      "|   |   |   |   |   |--- class: No\n",
      "|   |   |   |--- feature_5 >  4.00\n",
      "|   |   |   |   |--- class: No\n",
      "|   |   |--- feature_3 >  101.00\n",
      "|   |   |   |--- feature_5 <= 7.89\n",
      "|   |   |   |   |--- class: Yes\n",
      "|   |   |   |--- feature_5 >  7.89\n",
      "|   |   |   |   |--- class: No\n",
      "|--- feature_3 >  138.00\n",
      "|   |--- class: Yes\n",
      "\n"
     ]
    },
    {
     "data": {
      "image/svg+xml": [
       "<?xml version=\"1.0\" encoding=\"UTF-8\" standalone=\"no\"?>\n",
       "<!DOCTYPE svg PUBLIC \"-//W3C//DTD SVG 1.1//EN\"\n",
       " \"http://www.w3.org/Graphics/SVG/1.1/DTD/svg11.dtd\">\n",
       "<!-- Generated by graphviz version 2.48.0 (20210717.1556)\n",
       " -->\n",
       "<!-- Title: Tree Pages: 1 -->\n",
       "<svg width=\"693pt\" height=\"581pt\"\n",
       " viewBox=\"0.00 0.00 693.00 581.00\" xmlns=\"http://www.w3.org/2000/svg\" xmlns:xlink=\"http://www.w3.org/1999/xlink\">\n",
       "<g id=\"graph0\" class=\"graph\" transform=\"scale(1 1) rotate(0) translate(4 577)\">\n",
       "<title>Tree</title>\n",
       "<polygon fill=\"white\" stroke=\"transparent\" points=\"-4,4 -4,-577 689,-577 689,4 -4,4\"/>\n",
       "<!-- 0 -->\n",
       "<g id=\"node1\" class=\"node\">\n",
       "<title>0</title>\n",
       "<polygon fill=\"none\" stroke=\"black\" points=\"352.5,-573 232.5,-573 232.5,-505 352.5,-505 352.5,-573\"/>\n",
       "<text text-anchor=\"middle\" x=\"292.5\" y=\"-557.8\" font-family=\"Times,serif\" font-size=\"14.00\">X[3] &lt;= 138.0</text>\n",
       "<text text-anchor=\"middle\" x=\"292.5\" y=\"-542.8\" font-family=\"Times,serif\" font-size=\"14.00\">entropy = 0.948</text>\n",
       "<text text-anchor=\"middle\" x=\"292.5\" y=\"-527.8\" font-family=\"Times,serif\" font-size=\"14.00\">samples = 355</text>\n",
       "<text text-anchor=\"middle\" x=\"292.5\" y=\"-512.8\" font-family=\"Times,serif\" font-size=\"14.00\">value = [130, 225]</text>\n",
       "</g>\n",
       "<!-- 1 -->\n",
       "<g id=\"node2\" class=\"node\">\n",
       "<title>1</title>\n",
       "<polygon fill=\"none\" stroke=\"black\" points=\"287.5,-469 167.5,-469 167.5,-401 287.5,-401 287.5,-469\"/>\n",
       "<text text-anchor=\"middle\" x=\"227.5\" y=\"-453.8\" font-family=\"Times,serif\" font-size=\"14.00\">X[5] &lt;= 3.524</text>\n",
       "<text text-anchor=\"middle\" x=\"227.5\" y=\"-438.8\" font-family=\"Times,serif\" font-size=\"14.00\">entropy = 0.991</text>\n",
       "<text text-anchor=\"middle\" x=\"227.5\" y=\"-423.8\" font-family=\"Times,serif\" font-size=\"14.00\">samples = 234</text>\n",
       "<text text-anchor=\"middle\" x=\"227.5\" y=\"-408.8\" font-family=\"Times,serif\" font-size=\"14.00\">value = [130, 104]</text>\n",
       "</g>\n",
       "<!-- 0&#45;&gt;1 -->\n",
       "<g id=\"edge1\" class=\"edge\">\n",
       "<title>0&#45;&gt;1</title>\n",
       "<path fill=\"none\" stroke=\"black\" d=\"M271.4,-504.88C265.89,-496.24 259.88,-486.82 254.13,-477.79\"/>\n",
       "<polygon fill=\"black\" stroke=\"black\" points=\"257.05,-475.85 248.72,-469.3 251.14,-479.61 257.05,-475.85\"/>\n",
       "<text text-anchor=\"middle\" x=\"243.31\" y=\"-490.01\" font-family=\"Times,serif\" font-size=\"14.00\">True</text>\n",
       "</g>\n",
       "<!-- 16 -->\n",
       "<g id=\"node17\" class=\"node\">\n",
       "<title>16</title>\n",
       "<polygon fill=\"none\" stroke=\"black\" points=\"411.5,-461.5 305.5,-461.5 305.5,-408.5 411.5,-408.5 411.5,-461.5\"/>\n",
       "<text text-anchor=\"middle\" x=\"358.5\" y=\"-446.3\" font-family=\"Times,serif\" font-size=\"14.00\">entropy = 0.0</text>\n",
       "<text text-anchor=\"middle\" x=\"358.5\" y=\"-431.3\" font-family=\"Times,serif\" font-size=\"14.00\">samples = 121</text>\n",
       "<text text-anchor=\"middle\" x=\"358.5\" y=\"-416.3\" font-family=\"Times,serif\" font-size=\"14.00\">value = [0, 121]</text>\n",
       "</g>\n",
       "<!-- 0&#45;&gt;16 -->\n",
       "<g id=\"edge16\" class=\"edge\">\n",
       "<title>0&#45;&gt;16</title>\n",
       "<path fill=\"none\" stroke=\"black\" d=\"M313.93,-504.88C321.12,-493.78 329.14,-481.37 336.38,-470.18\"/>\n",
       "<polygon fill=\"black\" stroke=\"black\" points=\"339.49,-471.82 341.99,-461.52 333.62,-468.01 339.49,-471.82\"/>\n",
       "<text text-anchor=\"middle\" x=\"347.23\" y=\"-482.26\" font-family=\"Times,serif\" font-size=\"14.00\">False</text>\n",
       "</g>\n",
       "<!-- 2 -->\n",
       "<g id=\"node3\" class=\"node\">\n",
       "<title>2</title>\n",
       "<polygon fill=\"none\" stroke=\"black\" points=\"216.5,-365 110.5,-365 110.5,-297 216.5,-297 216.5,-365\"/>\n",
       "<text text-anchor=\"middle\" x=\"163.5\" y=\"-349.8\" font-family=\"Times,serif\" font-size=\"14.00\">X[3] &lt;= 24.5</text>\n",
       "<text text-anchor=\"middle\" x=\"163.5\" y=\"-334.8\" font-family=\"Times,serif\" font-size=\"14.00\">entropy = 0.512</text>\n",
       "<text text-anchor=\"middle\" x=\"163.5\" y=\"-319.8\" font-family=\"Times,serif\" font-size=\"14.00\">samples = 79</text>\n",
       "<text text-anchor=\"middle\" x=\"163.5\" y=\"-304.8\" font-family=\"Times,serif\" font-size=\"14.00\">value = [9, 70]</text>\n",
       "</g>\n",
       "<!-- 1&#45;&gt;2 -->\n",
       "<g id=\"edge2\" class=\"edge\">\n",
       "<title>1&#45;&gt;2</title>\n",
       "<path fill=\"none\" stroke=\"black\" d=\"M206.72,-400.88C201.3,-392.24 195.39,-382.82 189.72,-373.79\"/>\n",
       "<polygon fill=\"black\" stroke=\"black\" points=\"192.67,-371.91 184.39,-365.3 186.74,-375.63 192.67,-371.91\"/>\n",
       "</g>\n",
       "<!-- 7 -->\n",
       "<g id=\"node8\" class=\"node\">\n",
       "<title>7</title>\n",
       "<polygon fill=\"none\" stroke=\"black\" points=\"399,-365 286,-365 286,-297 399,-297 399,-365\"/>\n",
       "<text text-anchor=\"middle\" x=\"342.5\" y=\"-349.8\" font-family=\"Times,serif\" font-size=\"14.00\">X[3] &lt;= 101.0</text>\n",
       "<text text-anchor=\"middle\" x=\"342.5\" y=\"-334.8\" font-family=\"Times,serif\" font-size=\"14.00\">entropy = 0.759</text>\n",
       "<text text-anchor=\"middle\" x=\"342.5\" y=\"-319.8\" font-family=\"Times,serif\" font-size=\"14.00\">samples = 155</text>\n",
       "<text text-anchor=\"middle\" x=\"342.5\" y=\"-304.8\" font-family=\"Times,serif\" font-size=\"14.00\">value = [121, 34]</text>\n",
       "</g>\n",
       "<!-- 1&#45;&gt;7 -->\n",
       "<g id=\"edge7\" class=\"edge\">\n",
       "<title>1&#45;&gt;7</title>\n",
       "<path fill=\"none\" stroke=\"black\" d=\"M264.84,-400.88C275.18,-391.71 286.52,-381.65 297.26,-372.12\"/>\n",
       "<polygon fill=\"black\" stroke=\"black\" points=\"299.8,-374.55 304.96,-365.3 295.15,-369.32 299.8,-374.55\"/>\n",
       "</g>\n",
       "<!-- 3 -->\n",
       "<g id=\"node4\" class=\"node\">\n",
       "<title>3</title>\n",
       "<polygon fill=\"none\" stroke=\"black\" points=\"92.5,-253.5 0.5,-253.5 0.5,-200.5 92.5,-200.5 92.5,-253.5\"/>\n",
       "<text text-anchor=\"middle\" x=\"46.5\" y=\"-238.3\" font-family=\"Times,serif\" font-size=\"14.00\">entropy = 0.0</text>\n",
       "<text text-anchor=\"middle\" x=\"46.5\" y=\"-223.3\" font-family=\"Times,serif\" font-size=\"14.00\">samples = 8</text>\n",
       "<text text-anchor=\"middle\" x=\"46.5\" y=\"-208.3\" font-family=\"Times,serif\" font-size=\"14.00\">value = [8, 0]</text>\n",
       "</g>\n",
       "<!-- 2&#45;&gt;3 -->\n",
       "<g id=\"edge3\" class=\"edge\">\n",
       "<title>2&#45;&gt;3</title>\n",
       "<path fill=\"none\" stroke=\"black\" d=\"M125.51,-296.88C112.02,-285.12 96.85,-271.89 83.44,-260.2\"/>\n",
       "<polygon fill=\"black\" stroke=\"black\" points=\"85.61,-257.45 75.77,-253.52 81.01,-262.73 85.61,-257.45\"/>\n",
       "</g>\n",
       "<!-- 4 -->\n",
       "<g id=\"node5\" class=\"node\">\n",
       "<title>4</title>\n",
       "<polygon fill=\"none\" stroke=\"black\" points=\"216.5,-261 110.5,-261 110.5,-193 216.5,-193 216.5,-261\"/>\n",
       "<text text-anchor=\"middle\" x=\"163.5\" y=\"-245.8\" font-family=\"Times,serif\" font-size=\"14.00\">X[0] &lt;= 59.0</text>\n",
       "<text text-anchor=\"middle\" x=\"163.5\" y=\"-230.8\" font-family=\"Times,serif\" font-size=\"14.00\">entropy = 0.107</text>\n",
       "<text text-anchor=\"middle\" x=\"163.5\" y=\"-215.8\" font-family=\"Times,serif\" font-size=\"14.00\">samples = 71</text>\n",
       "<text text-anchor=\"middle\" x=\"163.5\" y=\"-200.8\" font-family=\"Times,serif\" font-size=\"14.00\">value = [1, 70]</text>\n",
       "</g>\n",
       "<!-- 2&#45;&gt;4 -->\n",
       "<g id=\"edge4\" class=\"edge\">\n",
       "<title>2&#45;&gt;4</title>\n",
       "<path fill=\"none\" stroke=\"black\" d=\"M163.5,-296.88C163.5,-288.78 163.5,-279.98 163.5,-271.47\"/>\n",
       "<polygon fill=\"black\" stroke=\"black\" points=\"167,-271.3 163.5,-261.3 160,-271.3 167,-271.3\"/>\n",
       "</g>\n",
       "<!-- 5 -->\n",
       "<g id=\"node6\" class=\"node\">\n",
       "<title>5</title>\n",
       "<polygon fill=\"none\" stroke=\"black\" points=\"99,-149.5 0,-149.5 0,-96.5 99,-96.5 99,-149.5\"/>\n",
       "<text text-anchor=\"middle\" x=\"49.5\" y=\"-134.3\" font-family=\"Times,serif\" font-size=\"14.00\">entropy = 0.0</text>\n",
       "<text text-anchor=\"middle\" x=\"49.5\" y=\"-119.3\" font-family=\"Times,serif\" font-size=\"14.00\">samples = 70</text>\n",
       "<text text-anchor=\"middle\" x=\"49.5\" y=\"-104.3\" font-family=\"Times,serif\" font-size=\"14.00\">value = [0, 70]</text>\n",
       "</g>\n",
       "<!-- 4&#45;&gt;5 -->\n",
       "<g id=\"edge5\" class=\"edge\">\n",
       "<title>4&#45;&gt;5</title>\n",
       "<path fill=\"none\" stroke=\"black\" d=\"M126.49,-192.88C113.34,-181.12 98.56,-167.89 85.49,-156.2\"/>\n",
       "<polygon fill=\"black\" stroke=\"black\" points=\"87.81,-153.58 78.02,-149.52 83.14,-158.8 87.81,-153.58\"/>\n",
       "</g>\n",
       "<!-- 6 -->\n",
       "<g id=\"node7\" class=\"node\">\n",
       "<title>6</title>\n",
       "<polygon fill=\"none\" stroke=\"black\" points=\"209.5,-149.5 117.5,-149.5 117.5,-96.5 209.5,-96.5 209.5,-149.5\"/>\n",
       "<text text-anchor=\"middle\" x=\"163.5\" y=\"-134.3\" font-family=\"Times,serif\" font-size=\"14.00\">entropy = 0.0</text>\n",
       "<text text-anchor=\"middle\" x=\"163.5\" y=\"-119.3\" font-family=\"Times,serif\" font-size=\"14.00\">samples = 1</text>\n",
       "<text text-anchor=\"middle\" x=\"163.5\" y=\"-104.3\" font-family=\"Times,serif\" font-size=\"14.00\">value = [1, 0]</text>\n",
       "</g>\n",
       "<!-- 4&#45;&gt;6 -->\n",
       "<g id=\"edge6\" class=\"edge\">\n",
       "<title>4&#45;&gt;6</title>\n",
       "<path fill=\"none\" stroke=\"black\" d=\"M163.5,-192.88C163.5,-182.33 163.5,-170.6 163.5,-159.85\"/>\n",
       "<polygon fill=\"black\" stroke=\"black\" points=\"167,-159.52 163.5,-149.52 160,-159.52 167,-159.52\"/>\n",
       "</g>\n",
       "<!-- 8 -->\n",
       "<g id=\"node9\" class=\"node\">\n",
       "<title>8</title>\n",
       "<polygon fill=\"none\" stroke=\"black\" points=\"395.5,-261 289.5,-261 289.5,-193 395.5,-193 395.5,-261\"/>\n",
       "<text text-anchor=\"middle\" x=\"342.5\" y=\"-245.8\" font-family=\"Times,serif\" font-size=\"14.00\">X[5] &lt;= 4.0</text>\n",
       "<text text-anchor=\"middle\" x=\"342.5\" y=\"-230.8\" font-family=\"Times,serif\" font-size=\"14.00\">entropy = 0.191</text>\n",
       "<text text-anchor=\"middle\" x=\"342.5\" y=\"-215.8\" font-family=\"Times,serif\" font-size=\"14.00\">samples = 102</text>\n",
       "<text text-anchor=\"middle\" x=\"342.5\" y=\"-200.8\" font-family=\"Times,serif\" font-size=\"14.00\">value = [99, 3]</text>\n",
       "</g>\n",
       "<!-- 7&#45;&gt;8 -->\n",
       "<g id=\"edge8\" class=\"edge\">\n",
       "<title>7&#45;&gt;8</title>\n",
       "<path fill=\"none\" stroke=\"black\" d=\"M342.5,-296.88C342.5,-288.78 342.5,-279.98 342.5,-271.47\"/>\n",
       "<polygon fill=\"black\" stroke=\"black\" points=\"346,-271.3 342.5,-261.3 339,-271.3 346,-271.3\"/>\n",
       "</g>\n",
       "<!-- 13 -->\n",
       "<g id=\"node14\" class=\"node\">\n",
       "<title>13</title>\n",
       "<polygon fill=\"none\" stroke=\"black\" points=\"571.5,-261 465.5,-261 465.5,-193 571.5,-193 571.5,-261\"/>\n",
       "<text text-anchor=\"middle\" x=\"518.5\" y=\"-245.8\" font-family=\"Times,serif\" font-size=\"14.00\">X[5] &lt;= 7.887</text>\n",
       "<text text-anchor=\"middle\" x=\"518.5\" y=\"-230.8\" font-family=\"Times,serif\" font-size=\"14.00\">entropy = 0.979</text>\n",
       "<text text-anchor=\"middle\" x=\"518.5\" y=\"-215.8\" font-family=\"Times,serif\" font-size=\"14.00\">samples = 53</text>\n",
       "<text text-anchor=\"middle\" x=\"518.5\" y=\"-200.8\" font-family=\"Times,serif\" font-size=\"14.00\">value = [22, 31]</text>\n",
       "</g>\n",
       "<!-- 7&#45;&gt;13 -->\n",
       "<g id=\"edge13\" class=\"edge\">\n",
       "<title>7&#45;&gt;13</title>\n",
       "<path fill=\"none\" stroke=\"black\" d=\"M399.16,-297.17C417.46,-286.56 437.85,-274.74 456.52,-263.92\"/>\n",
       "<polygon fill=\"black\" stroke=\"black\" points=\"458.34,-266.91 465.24,-258.87 454.83,-260.85 458.34,-266.91\"/>\n",
       "</g>\n",
       "<!-- 9 -->\n",
       "<g id=\"node10\" class=\"node\">\n",
       "<title>9</title>\n",
       "<polygon fill=\"none\" stroke=\"black\" points=\"333.5,-157 227.5,-157 227.5,-89 333.5,-89 333.5,-157\"/>\n",
       "<text text-anchor=\"middle\" x=\"280.5\" y=\"-141.8\" font-family=\"Times,serif\" font-size=\"14.00\">X[0] &lt;= 26.5</text>\n",
       "<text text-anchor=\"middle\" x=\"280.5\" y=\"-126.8\" font-family=\"Times,serif\" font-size=\"14.00\">entropy = 0.985</text>\n",
       "<text text-anchor=\"middle\" x=\"280.5\" y=\"-111.8\" font-family=\"Times,serif\" font-size=\"14.00\">samples = 7</text>\n",
       "<text text-anchor=\"middle\" x=\"280.5\" y=\"-96.8\" font-family=\"Times,serif\" font-size=\"14.00\">value = [4, 3]</text>\n",
       "</g>\n",
       "<!-- 8&#45;&gt;9 -->\n",
       "<g id=\"edge9\" class=\"edge\">\n",
       "<title>8&#45;&gt;9</title>\n",
       "<path fill=\"none\" stroke=\"black\" d=\"M322.37,-192.88C317.17,-184.33 311.51,-175.01 306.07,-166.07\"/>\n",
       "<polygon fill=\"black\" stroke=\"black\" points=\"308.93,-164.03 300.74,-157.3 302.94,-167.66 308.93,-164.03\"/>\n",
       "</g>\n",
       "<!-- 12 -->\n",
       "<g id=\"node13\" class=\"node\">\n",
       "<title>12</title>\n",
       "<polygon fill=\"none\" stroke=\"black\" points=\"451,-149.5 352,-149.5 352,-96.5 451,-96.5 451,-149.5\"/>\n",
       "<text text-anchor=\"middle\" x=\"401.5\" y=\"-134.3\" font-family=\"Times,serif\" font-size=\"14.00\">entropy = 0.0</text>\n",
       "<text text-anchor=\"middle\" x=\"401.5\" y=\"-119.3\" font-family=\"Times,serif\" font-size=\"14.00\">samples = 95</text>\n",
       "<text text-anchor=\"middle\" x=\"401.5\" y=\"-104.3\" font-family=\"Times,serif\" font-size=\"14.00\">value = [95, 0]</text>\n",
       "</g>\n",
       "<!-- 8&#45;&gt;12 -->\n",
       "<g id=\"edge12\" class=\"edge\">\n",
       "<title>8&#45;&gt;12</title>\n",
       "<path fill=\"none\" stroke=\"black\" d=\"M361.66,-192.88C368.08,-181.78 375.26,-169.37 381.73,-158.18\"/>\n",
       "<polygon fill=\"black\" stroke=\"black\" points=\"384.76,-159.93 386.74,-149.52 378.7,-156.42 384.76,-159.93\"/>\n",
       "</g>\n",
       "<!-- 10 -->\n",
       "<g id=\"node11\" class=\"node\">\n",
       "<title>10</title>\n",
       "<polygon fill=\"none\" stroke=\"black\" points=\"271.5,-53 179.5,-53 179.5,0 271.5,0 271.5,-53\"/>\n",
       "<text text-anchor=\"middle\" x=\"225.5\" y=\"-37.8\" font-family=\"Times,serif\" font-size=\"14.00\">entropy = 0.0</text>\n",
       "<text text-anchor=\"middle\" x=\"225.5\" y=\"-22.8\" font-family=\"Times,serif\" font-size=\"14.00\">samples = 3</text>\n",
       "<text text-anchor=\"middle\" x=\"225.5\" y=\"-7.8\" font-family=\"Times,serif\" font-size=\"14.00\">value = [0, 3]</text>\n",
       "</g>\n",
       "<!-- 9&#45;&gt;10 -->\n",
       "<g id=\"edge10\" class=\"edge\">\n",
       "<title>9&#45;&gt;10</title>\n",
       "<path fill=\"none\" stroke=\"black\" d=\"M261.26,-88.95C256.21,-80.26 250.74,-70.86 245.63,-62.09\"/>\n",
       "<polygon fill=\"black\" stroke=\"black\" points=\"248.53,-60.12 240.48,-53.24 242.48,-63.64 248.53,-60.12\"/>\n",
       "</g>\n",
       "<!-- 11 -->\n",
       "<g id=\"node12\" class=\"node\">\n",
       "<title>11</title>\n",
       "<polygon fill=\"none\" stroke=\"black\" points=\"381.5,-53 289.5,-53 289.5,0 381.5,0 381.5,-53\"/>\n",
       "<text text-anchor=\"middle\" x=\"335.5\" y=\"-37.8\" font-family=\"Times,serif\" font-size=\"14.00\">entropy = 0.0</text>\n",
       "<text text-anchor=\"middle\" x=\"335.5\" y=\"-22.8\" font-family=\"Times,serif\" font-size=\"14.00\">samples = 4</text>\n",
       "<text text-anchor=\"middle\" x=\"335.5\" y=\"-7.8\" font-family=\"Times,serif\" font-size=\"14.00\">value = [4, 0]</text>\n",
       "</g>\n",
       "<!-- 9&#45;&gt;11 -->\n",
       "<g id=\"edge11\" class=\"edge\">\n",
       "<title>9&#45;&gt;11</title>\n",
       "<path fill=\"none\" stroke=\"black\" d=\"M299.74,-88.95C304.79,-80.26 310.26,-70.86 315.37,-62.09\"/>\n",
       "<polygon fill=\"black\" stroke=\"black\" points=\"318.52,-63.64 320.52,-53.24 312.47,-60.12 318.52,-63.64\"/>\n",
       "</g>\n",
       "<!-- 14 -->\n",
       "<g id=\"node15\" class=\"node\">\n",
       "<title>14</title>\n",
       "<polygon fill=\"none\" stroke=\"black\" points=\"568,-149.5 469,-149.5 469,-96.5 568,-96.5 568,-149.5\"/>\n",
       "<text text-anchor=\"middle\" x=\"518.5\" y=\"-134.3\" font-family=\"Times,serif\" font-size=\"14.00\">entropy = 0.0</text>\n",
       "<text text-anchor=\"middle\" x=\"518.5\" y=\"-119.3\" font-family=\"Times,serif\" font-size=\"14.00\">samples = 31</text>\n",
       "<text text-anchor=\"middle\" x=\"518.5\" y=\"-104.3\" font-family=\"Times,serif\" font-size=\"14.00\">value = [0, 31]</text>\n",
       "</g>\n",
       "<!-- 13&#45;&gt;14 -->\n",
       "<g id=\"edge14\" class=\"edge\">\n",
       "<title>13&#45;&gt;14</title>\n",
       "<path fill=\"none\" stroke=\"black\" d=\"M518.5,-192.88C518.5,-182.33 518.5,-170.6 518.5,-159.85\"/>\n",
       "<polygon fill=\"black\" stroke=\"black\" points=\"522,-159.52 518.5,-149.52 515,-159.52 522,-159.52\"/>\n",
       "</g>\n",
       "<!-- 15 -->\n",
       "<g id=\"node16\" class=\"node\">\n",
       "<title>15</title>\n",
       "<polygon fill=\"none\" stroke=\"black\" points=\"685,-149.5 586,-149.5 586,-96.5 685,-96.5 685,-149.5\"/>\n",
       "<text text-anchor=\"middle\" x=\"635.5\" y=\"-134.3\" font-family=\"Times,serif\" font-size=\"14.00\">entropy = 0.0</text>\n",
       "<text text-anchor=\"middle\" x=\"635.5\" y=\"-119.3\" font-family=\"Times,serif\" font-size=\"14.00\">samples = 22</text>\n",
       "<text text-anchor=\"middle\" x=\"635.5\" y=\"-104.3\" font-family=\"Times,serif\" font-size=\"14.00\">value = [22, 0]</text>\n",
       "</g>\n",
       "<!-- 13&#45;&gt;15 -->\n",
       "<g id=\"edge15\" class=\"edge\">\n",
       "<title>13&#45;&gt;15</title>\n",
       "<path fill=\"none\" stroke=\"black\" d=\"M556.49,-192.88C569.98,-181.12 585.15,-167.89 598.56,-156.2\"/>\n",
       "<polygon fill=\"black\" stroke=\"black\" points=\"600.99,-158.73 606.23,-149.52 596.39,-153.45 600.99,-158.73\"/>\n",
       "</g>\n",
       "</g>\n",
       "</svg>\n"
      ],
      "text/plain": [
       "<graphviz.sources.Source at 0x7fa66dafd820>"
      ]
     },
     "execution_count": 29,
     "metadata": {},
     "output_type": "execute_result"
    }
   ],
   "source": [
    "# Now we want to visualize the tree\n",
    "print(\"~~~~~ VISUALIZE TREE: EXPORT TEXT ~~~~~\")\n",
    "print(tree.export_text(entr_model))\n",
    "\n",
    "# We can do so with export_graphviz\n",
    "\n",
    "entr_model_graph_data = tree.export_graphviz(entr_model)\n",
    "graph = graphviz.Source(entr_model_graph_data, format=\"png\")\n",
    "\n",
    "graph"
   ]
  },
  {
   "cell_type": "code",
   "execution_count": 30,
   "metadata": {},
   "outputs": [
    {
     "data": {
      "text/plain": [
       "array(['No', 'Yes'], dtype=object)"
      ]
     },
     "execution_count": 30,
     "metadata": {},
     "output_type": "execute_result"
    }
   ],
   "source": [
    "# Alternatively for class_names use entr_model.classes_\n",
    "entr_model.classes_"
   ]
  },
  {
   "cell_type": "markdown",
   "metadata": {
    "colab_type": "text",
    "id": "dFbii4IADuWg"
   },
   "source": [
    "## Model 1: Entropy model - no max_depth: Interpretation and evaluation"
   ]
  },
  {
   "cell_type": "code",
   "execution_count": 31,
   "metadata": {
    "colab": {},
    "colab_type": "code",
    "id": "XRL0klK4DuWh",
    "scrolled": true
   },
   "outputs": [
    {
     "name": "stdout",
     "output_type": "stream",
     "text": [
      "Model Entropy - no max depth\n",
      "Accuracy: 0.9915966386554622\n",
      "Balanced accuracy: 0.9878048780487805\n",
      "Precision score for \"Yes\" 0.9873417721518988\n",
      "Precision score for \"No\" 1.0\n",
      "Recall score for \"Yes\" 1.0\n",
      "Recall score for \"No\" 0.975609756097561\n"
     ]
    }
   ],
   "source": [
    "# Run this block for model evaluation metrics \n",
    "print(\"Model Entropy - no max depth\")\n",
    "print(\"Accuracy:\", metrics.accuracy_score(y_test,y_pred))\n",
    "print(\"Balanced accuracy:\", metrics.balanced_accuracy_score(y_test,y_pred))\n",
    "print('Precision score for \"Yes\"' , metrics.precision_score(y_test,y_pred, pos_label = \"Yes\"))\n",
    "print('Precision score for \"No\"' , metrics.precision_score(y_test,y_pred, pos_label = \"No\"))\n",
    "print('Recall score for \"Yes\"' , metrics.recall_score(y_test,y_pred, pos_label = \"Yes\"))\n",
    "print('Recall score for \"No\"' , metrics.recall_score(y_test,y_pred, pos_label = \"No\"))"
   ]
  },
  {
   "cell_type": "markdown",
   "metadata": {
    "colab_type": "text",
    "id": "icGOPFQ_DuWj"
   },
   "source": [
    "What can you infer from these results? Write your conclusions here:\n",
    "99% accuracy seems pretty high, especially since we haven't done much preprocessing or tweaking of parameters. To me, this suggests that the train/test data may be biased and that the model may be overfitting to the available data. Alternatively, the data could be fairly predictable/classifiable."
   ]
  },
  {
   "cell_type": "markdown",
   "metadata": {
    "colab_type": "text",
    "id": "MHipdpfxDuWk"
   },
   "source": [
    "## Model 2: Gini impurity model - no max_depth\n",
    "\n",
    "Gini impurity, like entropy, is a measure of how well a given feature (and threshold) splits the data into categories.\n",
    "\n",
    "Their equations are similar, but Gini impurity doesn't require logorathmic functions, which can be computationally expensive. "
   ]
  },
  {
   "cell_type": "code",
   "execution_count": 32,
   "metadata": {
    "colab": {},
    "colab_type": "code",
    "id": "FyBljeIpDuWl"
   },
   "outputs": [
    {
     "data": {
      "text/plain": [
       "DecisionTreeClassifier(random_state=1234)"
      ]
     },
     "execution_count": 32,
     "metadata": {},
     "output_type": "execute_result"
    }
   ],
   "source": [
    "# Make a variable called gini_model, and assign it exactly what you assigned entr_model with above, but with the\n",
    "# criterion changed to 'gini'\n",
    "gini_model = tree.DecisionTreeClassifier(criterion=\"gini\", random_state=1234)\n",
    "\n",
    "# Call fit() on the gini_model as you did with the entr_model\n",
    "gini_model.fit(X_train, y_train) \n",
    "\n",
    "# Call predict() on the gini_model as you did with the entr_model \n",
    "y_pred = gini_model.predict(X_test)\n",
    "\n",
    "# Turn y_pred into a series, as before\n",
    "pd.Series(y_pred)\n",
    "\n",
    "# Check out gini_model\n",
    "gini_model"
   ]
  },
  {
   "cell_type": "code",
   "execution_count": 33,
   "metadata": {},
   "outputs": [
    {
     "name": "stdout",
     "output_type": "stream",
     "text": [
      "~~~~~ VISUALIZE TREE: EXPORT TEXT ~~~~~\n",
      "|--- feature_3 <= 100.50\n",
      "|   |--- feature_5 <= 3.75\n",
      "|   |   |--- feature_3 <= 24.50\n",
      "|   |   |   |--- class: No\n",
      "|   |   |--- feature_3 >  24.50\n",
      "|   |   |   |--- feature_0 <= 57.50\n",
      "|   |   |   |   |--- feature_5 <= 3.30\n",
      "|   |   |   |   |   |--- class: Yes\n",
      "|   |   |   |   |--- feature_5 >  3.30\n",
      "|   |   |   |   |   |--- feature_3 <= 59.50\n",
      "|   |   |   |   |   |   |--- class: No\n",
      "|   |   |   |   |   |--- feature_3 >  59.50\n",
      "|   |   |   |   |   |   |--- class: Yes\n",
      "|   |   |   |--- feature_0 >  57.50\n",
      "|   |   |   |   |--- class: No\n",
      "|   |--- feature_5 >  3.75\n",
      "|   |   |--- feature_5 <= 4.00\n",
      "|   |   |   |--- feature_1 <= 2.00\n",
      "|   |   |   |   |--- class: No\n",
      "|   |   |   |--- feature_1 >  2.00\n",
      "|   |   |   |   |--- class: Yes\n",
      "|   |   |--- feature_5 >  4.00\n",
      "|   |   |   |--- class: No\n",
      "|--- feature_3 >  100.50\n",
      "|   |--- feature_5 <= 8.05\n",
      "|   |   |--- class: Yes\n",
      "|   |--- feature_5 >  8.05\n",
      "|   |   |--- feature_3 <= 140.50\n",
      "|   |   |   |--- class: No\n",
      "|   |   |--- feature_3 >  140.50\n",
      "|   |   |   |--- class: Yes\n",
      "\n"
     ]
    },
    {
     "data": {
      "image/svg+xml": [
       "<?xml version=\"1.0\" encoding=\"UTF-8\" standalone=\"no\"?>\n",
       "<!DOCTYPE svg PUBLIC \"-//W3C//DTD SVG 1.1//EN\"\n",
       " \"http://www.w3.org/Graphics/SVG/1.1/DTD/svg11.dtd\">\n",
       "<!-- Generated by graphviz version 2.48.0 (20210717.1556)\n",
       " -->\n",
       "<!-- Title: Tree Pages: 1 -->\n",
       "<svg width=\"752pt\" height=\"685pt\"\n",
       " viewBox=\"0.00 0.00 752.00 685.00\" xmlns=\"http://www.w3.org/2000/svg\" xmlns:xlink=\"http://www.w3.org/1999/xlink\">\n",
       "<g id=\"graph0\" class=\"graph\" transform=\"scale(1 1) rotate(0) translate(4 681)\">\n",
       "<title>Tree</title>\n",
       "<polygon fill=\"white\" stroke=\"transparent\" points=\"-4,4 -4,-681 748,-681 748,4 -4,4\"/>\n",
       "<!-- 0 -->\n",
       "<g id=\"node1\" class=\"node\">\n",
       "<title>0</title>\n",
       "<polygon fill=\"none\" stroke=\"black\" points=\"459.5,-677 339.5,-677 339.5,-609 459.5,-609 459.5,-677\"/>\n",
       "<text text-anchor=\"middle\" x=\"399.5\" y=\"-661.8\" font-family=\"Times,serif\" font-size=\"14.00\">X[3] &lt;= 100.5</text>\n",
       "<text text-anchor=\"middle\" x=\"399.5\" y=\"-646.8\" font-family=\"Times,serif\" font-size=\"14.00\">gini = 0.464</text>\n",
       "<text text-anchor=\"middle\" x=\"399.5\" y=\"-631.8\" font-family=\"Times,serif\" font-size=\"14.00\">samples = 355</text>\n",
       "<text text-anchor=\"middle\" x=\"399.5\" y=\"-616.8\" font-family=\"Times,serif\" font-size=\"14.00\">value = [130, 225]</text>\n",
       "</g>\n",
       "<!-- 1 -->\n",
       "<g id=\"node2\" class=\"node\">\n",
       "<title>1</title>\n",
       "<polygon fill=\"none\" stroke=\"black\" points=\"391,-573 278,-573 278,-505 391,-505 391,-573\"/>\n",
       "<text text-anchor=\"middle\" x=\"334.5\" y=\"-557.8\" font-family=\"Times,serif\" font-size=\"14.00\">X[5] &lt;= 3.754</text>\n",
       "<text text-anchor=\"middle\" x=\"334.5\" y=\"-542.8\" font-family=\"Times,serif\" font-size=\"14.00\">gini = 0.411</text>\n",
       "<text text-anchor=\"middle\" x=\"334.5\" y=\"-527.8\" font-family=\"Times,serif\" font-size=\"14.00\">samples = 152</text>\n",
       "<text text-anchor=\"middle\" x=\"334.5\" y=\"-512.8\" font-family=\"Times,serif\" font-size=\"14.00\">value = [108, 44]</text>\n",
       "</g>\n",
       "<!-- 0&#45;&gt;1 -->\n",
       "<g id=\"edge1\" class=\"edge\">\n",
       "<title>0&#45;&gt;1</title>\n",
       "<path fill=\"none\" stroke=\"black\" d=\"M378.4,-608.88C372.89,-600.24 366.88,-590.82 361.13,-581.79\"/>\n",
       "<polygon fill=\"black\" stroke=\"black\" points=\"364.05,-579.85 355.72,-573.3 358.14,-583.61 364.05,-579.85\"/>\n",
       "<text text-anchor=\"middle\" x=\"350.31\" y=\"-594.01\" font-family=\"Times,serif\" font-size=\"14.00\">True</text>\n",
       "</g>\n",
       "<!-- 16 -->\n",
       "<g id=\"node17\" class=\"node\">\n",
       "<title>16</title>\n",
       "<polygon fill=\"none\" stroke=\"black\" points=\"522,-573 409,-573 409,-505 522,-505 522,-573\"/>\n",
       "<text text-anchor=\"middle\" x=\"465.5\" y=\"-557.8\" font-family=\"Times,serif\" font-size=\"14.00\">X[5] &lt;= 8.047</text>\n",
       "<text text-anchor=\"middle\" x=\"465.5\" y=\"-542.8\" font-family=\"Times,serif\" font-size=\"14.00\">gini = 0.193</text>\n",
       "<text text-anchor=\"middle\" x=\"465.5\" y=\"-527.8\" font-family=\"Times,serif\" font-size=\"14.00\">samples = 203</text>\n",
       "<text text-anchor=\"middle\" x=\"465.5\" y=\"-512.8\" font-family=\"Times,serif\" font-size=\"14.00\">value = [22, 181]</text>\n",
       "</g>\n",
       "<!-- 0&#45;&gt;16 -->\n",
       "<g id=\"edge16\" class=\"edge\">\n",
       "<title>0&#45;&gt;16</title>\n",
       "<path fill=\"none\" stroke=\"black\" d=\"M420.93,-608.88C426.52,-600.24 432.62,-590.82 438.46,-581.79\"/>\n",
       "<polygon fill=\"black\" stroke=\"black\" points=\"441.46,-583.6 443.95,-573.3 435.58,-579.79 441.46,-583.6\"/>\n",
       "<text text-anchor=\"middle\" x=\"449.19\" y=\"-594.04\" font-family=\"Times,serif\" font-size=\"14.00\">False</text>\n",
       "</g>\n",
       "<!-- 2 -->\n",
       "<g id=\"node3\" class=\"node\">\n",
       "<title>2</title>\n",
       "<polygon fill=\"none\" stroke=\"black\" points=\"269.5,-469 163.5,-469 163.5,-401 269.5,-401 269.5,-469\"/>\n",
       "<text text-anchor=\"middle\" x=\"216.5\" y=\"-453.8\" font-family=\"Times,serif\" font-size=\"14.00\">X[3] &lt;= 24.5</text>\n",
       "<text text-anchor=\"middle\" x=\"216.5\" y=\"-438.8\" font-family=\"Times,serif\" font-size=\"14.00\">gini = 0.324</text>\n",
       "<text text-anchor=\"middle\" x=\"216.5\" y=\"-423.8\" font-family=\"Times,serif\" font-size=\"14.00\">samples = 54</text>\n",
       "<text text-anchor=\"middle\" x=\"216.5\" y=\"-408.8\" font-family=\"Times,serif\" font-size=\"14.00\">value = [11, 43]</text>\n",
       "</g>\n",
       "<!-- 1&#45;&gt;2 -->\n",
       "<g id=\"edge2\" class=\"edge\">\n",
       "<title>1&#45;&gt;2</title>\n",
       "<path fill=\"none\" stroke=\"black\" d=\"M296.19,-504.88C285.47,-495.62 273.71,-485.45 262.6,-475.85\"/>\n",
       "<polygon fill=\"black\" stroke=\"black\" points=\"264.88,-473.19 255.02,-469.3 260.3,-478.49 264.88,-473.19\"/>\n",
       "</g>\n",
       "<!-- 11 -->\n",
       "<g id=\"node12\" class=\"node\">\n",
       "<title>11</title>\n",
       "<polygon fill=\"none\" stroke=\"black\" points=\"387,-469 288,-469 288,-401 387,-401 387,-469\"/>\n",
       "<text text-anchor=\"middle\" x=\"337.5\" y=\"-453.8\" font-family=\"Times,serif\" font-size=\"14.00\">X[5] &lt;= 4.0</text>\n",
       "<text text-anchor=\"middle\" x=\"337.5\" y=\"-438.8\" font-family=\"Times,serif\" font-size=\"14.00\">gini = 0.02</text>\n",
       "<text text-anchor=\"middle\" x=\"337.5\" y=\"-423.8\" font-family=\"Times,serif\" font-size=\"14.00\">samples = 98</text>\n",
       "<text text-anchor=\"middle\" x=\"337.5\" y=\"-408.8\" font-family=\"Times,serif\" font-size=\"14.00\">value = [97, 1]</text>\n",
       "</g>\n",
       "<!-- 1&#45;&gt;11 -->\n",
       "<g id=\"edge11\" class=\"edge\">\n",
       "<title>1&#45;&gt;11</title>\n",
       "<path fill=\"none\" stroke=\"black\" d=\"M335.47,-504.88C335.71,-496.78 335.97,-487.98 336.22,-479.47\"/>\n",
       "<polygon fill=\"black\" stroke=\"black\" points=\"339.73,-479.4 336.52,-469.3 332.73,-479.19 339.73,-479.4\"/>\n",
       "</g>\n",
       "<!-- 3 -->\n",
       "<g id=\"node4\" class=\"node\">\n",
       "<title>3</title>\n",
       "<polygon fill=\"none\" stroke=\"black\" points=\"151.5,-357.5 59.5,-357.5 59.5,-304.5 151.5,-304.5 151.5,-357.5\"/>\n",
       "<text text-anchor=\"middle\" x=\"105.5\" y=\"-342.3\" font-family=\"Times,serif\" font-size=\"14.00\">gini = 0.0</text>\n",
       "<text text-anchor=\"middle\" x=\"105.5\" y=\"-327.3\" font-family=\"Times,serif\" font-size=\"14.00\">samples = 8</text>\n",
       "<text text-anchor=\"middle\" x=\"105.5\" y=\"-312.3\" font-family=\"Times,serif\" font-size=\"14.00\">value = [8, 0]</text>\n",
       "</g>\n",
       "<!-- 2&#45;&gt;3 -->\n",
       "<g id=\"edge3\" class=\"edge\">\n",
       "<title>2&#45;&gt;3</title>\n",
       "<path fill=\"none\" stroke=\"black\" d=\"M180.46,-400.88C167.78,-389.23 153.54,-376.14 140.9,-364.53\"/>\n",
       "<polygon fill=\"black\" stroke=\"black\" points=\"143,-361.71 133.27,-357.52 138.27,-366.86 143,-361.71\"/>\n",
       "</g>\n",
       "<!-- 4 -->\n",
       "<g id=\"node5\" class=\"node\">\n",
       "<title>4</title>\n",
       "<polygon fill=\"none\" stroke=\"black\" points=\"269,-365 170,-365 170,-297 269,-297 269,-365\"/>\n",
       "<text text-anchor=\"middle\" x=\"219.5\" y=\"-349.8\" font-family=\"Times,serif\" font-size=\"14.00\">X[0] &lt;= 57.5</text>\n",
       "<text text-anchor=\"middle\" x=\"219.5\" y=\"-334.8\" font-family=\"Times,serif\" font-size=\"14.00\">gini = 0.122</text>\n",
       "<text text-anchor=\"middle\" x=\"219.5\" y=\"-319.8\" font-family=\"Times,serif\" font-size=\"14.00\">samples = 46</text>\n",
       "<text text-anchor=\"middle\" x=\"219.5\" y=\"-304.8\" font-family=\"Times,serif\" font-size=\"14.00\">value = [3, 43]</text>\n",
       "</g>\n",
       "<!-- 2&#45;&gt;4 -->\n",
       "<g id=\"edge4\" class=\"edge\">\n",
       "<title>2&#45;&gt;4</title>\n",
       "<path fill=\"none\" stroke=\"black\" d=\"M217.47,-400.88C217.71,-392.78 217.97,-383.98 218.22,-375.47\"/>\n",
       "<polygon fill=\"black\" stroke=\"black\" points=\"221.73,-375.4 218.52,-365.3 214.73,-375.19 221.73,-375.4\"/>\n",
       "</g>\n",
       "<!-- 5 -->\n",
       "<g id=\"node6\" class=\"node\">\n",
       "<title>5</title>\n",
       "<polygon fill=\"none\" stroke=\"black\" points=\"156,-261 57,-261 57,-193 156,-193 156,-261\"/>\n",
       "<text text-anchor=\"middle\" x=\"106.5\" y=\"-245.8\" font-family=\"Times,serif\" font-size=\"14.00\">X[5] &lt;= 3.298</text>\n",
       "<text text-anchor=\"middle\" x=\"106.5\" y=\"-230.8\" font-family=\"Times,serif\" font-size=\"14.00\">gini = 0.044</text>\n",
       "<text text-anchor=\"middle\" x=\"106.5\" y=\"-215.8\" font-family=\"Times,serif\" font-size=\"14.00\">samples = 44</text>\n",
       "<text text-anchor=\"middle\" x=\"106.5\" y=\"-200.8\" font-family=\"Times,serif\" font-size=\"14.00\">value = [1, 43]</text>\n",
       "</g>\n",
       "<!-- 4&#45;&gt;5 -->\n",
       "<g id=\"edge5\" class=\"edge\">\n",
       "<title>4&#45;&gt;5</title>\n",
       "<path fill=\"none\" stroke=\"black\" d=\"M182.81,-296.88C172.65,-287.71 161.5,-277.65 150.95,-268.12\"/>\n",
       "<polygon fill=\"black\" stroke=\"black\" points=\"153.16,-265.4 143.39,-261.3 148.47,-270.6 153.16,-265.4\"/>\n",
       "</g>\n",
       "<!-- 10 -->\n",
       "<g id=\"node11\" class=\"node\">\n",
       "<title>10</title>\n",
       "<polygon fill=\"none\" stroke=\"black\" points=\"266.5,-253.5 174.5,-253.5 174.5,-200.5 266.5,-200.5 266.5,-253.5\"/>\n",
       "<text text-anchor=\"middle\" x=\"220.5\" y=\"-238.3\" font-family=\"Times,serif\" font-size=\"14.00\">gini = 0.0</text>\n",
       "<text text-anchor=\"middle\" x=\"220.5\" y=\"-223.3\" font-family=\"Times,serif\" font-size=\"14.00\">samples = 2</text>\n",
       "<text text-anchor=\"middle\" x=\"220.5\" y=\"-208.3\" font-family=\"Times,serif\" font-size=\"14.00\">value = [2, 0]</text>\n",
       "</g>\n",
       "<!-- 4&#45;&gt;10 -->\n",
       "<g id=\"edge10\" class=\"edge\">\n",
       "<title>4&#45;&gt;10</title>\n",
       "<path fill=\"none\" stroke=\"black\" d=\"M219.82,-296.88C219.93,-286.33 220.04,-274.6 220.15,-263.85\"/>\n",
       "<polygon fill=\"black\" stroke=\"black\" points=\"223.65,-263.55 220.25,-253.52 216.65,-263.49 223.65,-263.55\"/>\n",
       "</g>\n",
       "<!-- 6 -->\n",
       "<g id=\"node7\" class=\"node\">\n",
       "<title>6</title>\n",
       "<polygon fill=\"none\" stroke=\"black\" points=\"99,-149.5 0,-149.5 0,-96.5 99,-96.5 99,-149.5\"/>\n",
       "<text text-anchor=\"middle\" x=\"49.5\" y=\"-134.3\" font-family=\"Times,serif\" font-size=\"14.00\">gini = 0.0</text>\n",
       "<text text-anchor=\"middle\" x=\"49.5\" y=\"-119.3\" font-family=\"Times,serif\" font-size=\"14.00\">samples = 41</text>\n",
       "<text text-anchor=\"middle\" x=\"49.5\" y=\"-104.3\" font-family=\"Times,serif\" font-size=\"14.00\">value = [0, 41]</text>\n",
       "</g>\n",
       "<!-- 5&#45;&gt;6 -->\n",
       "<g id=\"edge6\" class=\"edge\">\n",
       "<title>5&#45;&gt;6</title>\n",
       "<path fill=\"none\" stroke=\"black\" d=\"M87.99,-192.88C81.85,-181.89 74.99,-169.62 68.79,-158.52\"/>\n",
       "<polygon fill=\"black\" stroke=\"black\" points=\"71.69,-156.54 63.76,-149.52 65.58,-159.96 71.69,-156.54\"/>\n",
       "</g>\n",
       "<!-- 7 -->\n",
       "<g id=\"node8\" class=\"node\">\n",
       "<title>7</title>\n",
       "<polygon fill=\"none\" stroke=\"black\" points=\"209.5,-157 117.5,-157 117.5,-89 209.5,-89 209.5,-157\"/>\n",
       "<text text-anchor=\"middle\" x=\"163.5\" y=\"-141.8\" font-family=\"Times,serif\" font-size=\"14.00\">X[3] &lt;= 59.5</text>\n",
       "<text text-anchor=\"middle\" x=\"163.5\" y=\"-126.8\" font-family=\"Times,serif\" font-size=\"14.00\">gini = 0.444</text>\n",
       "<text text-anchor=\"middle\" x=\"163.5\" y=\"-111.8\" font-family=\"Times,serif\" font-size=\"14.00\">samples = 3</text>\n",
       "<text text-anchor=\"middle\" x=\"163.5\" y=\"-96.8\" font-family=\"Times,serif\" font-size=\"14.00\">value = [1, 2]</text>\n",
       "</g>\n",
       "<!-- 5&#45;&gt;7 -->\n",
       "<g id=\"edge7\" class=\"edge\">\n",
       "<title>5&#45;&gt;7</title>\n",
       "<path fill=\"none\" stroke=\"black\" d=\"M125.01,-192.88C129.78,-184.33 134.99,-175.01 139.99,-166.07\"/>\n",
       "<polygon fill=\"black\" stroke=\"black\" points=\"143.07,-167.74 144.89,-157.3 136.96,-164.32 143.07,-167.74\"/>\n",
       "</g>\n",
       "<!-- 8 -->\n",
       "<g id=\"node9\" class=\"node\">\n",
       "<title>8</title>\n",
       "<polygon fill=\"none\" stroke=\"black\" points=\"154.5,-53 62.5,-53 62.5,0 154.5,0 154.5,-53\"/>\n",
       "<text text-anchor=\"middle\" x=\"108.5\" y=\"-37.8\" font-family=\"Times,serif\" font-size=\"14.00\">gini = 0.0</text>\n",
       "<text text-anchor=\"middle\" x=\"108.5\" y=\"-22.8\" font-family=\"Times,serif\" font-size=\"14.00\">samples = 1</text>\n",
       "<text text-anchor=\"middle\" x=\"108.5\" y=\"-7.8\" font-family=\"Times,serif\" font-size=\"14.00\">value = [1, 0]</text>\n",
       "</g>\n",
       "<!-- 7&#45;&gt;8 -->\n",
       "<g id=\"edge8\" class=\"edge\">\n",
       "<title>7&#45;&gt;8</title>\n",
       "<path fill=\"none\" stroke=\"black\" d=\"M144.26,-88.95C139.21,-80.26 133.74,-70.86 128.63,-62.09\"/>\n",
       "<polygon fill=\"black\" stroke=\"black\" points=\"131.53,-60.12 123.48,-53.24 125.48,-63.64 131.53,-60.12\"/>\n",
       "</g>\n",
       "<!-- 9 -->\n",
       "<g id=\"node10\" class=\"node\">\n",
       "<title>9</title>\n",
       "<polygon fill=\"none\" stroke=\"black\" points=\"264.5,-53 172.5,-53 172.5,0 264.5,0 264.5,-53\"/>\n",
       "<text text-anchor=\"middle\" x=\"218.5\" y=\"-37.8\" font-family=\"Times,serif\" font-size=\"14.00\">gini = 0.0</text>\n",
       "<text text-anchor=\"middle\" x=\"218.5\" y=\"-22.8\" font-family=\"Times,serif\" font-size=\"14.00\">samples = 2</text>\n",
       "<text text-anchor=\"middle\" x=\"218.5\" y=\"-7.8\" font-family=\"Times,serif\" font-size=\"14.00\">value = [0, 2]</text>\n",
       "</g>\n",
       "<!-- 7&#45;&gt;9 -->\n",
       "<g id=\"edge9\" class=\"edge\">\n",
       "<title>7&#45;&gt;9</title>\n",
       "<path fill=\"none\" stroke=\"black\" d=\"M182.74,-88.95C187.79,-80.26 193.26,-70.86 198.37,-62.09\"/>\n",
       "<polygon fill=\"black\" stroke=\"black\" points=\"201.52,-63.64 203.52,-53.24 195.47,-60.12 201.52,-63.64\"/>\n",
       "</g>\n",
       "<!-- 12 -->\n",
       "<g id=\"node13\" class=\"node\">\n",
       "<title>12</title>\n",
       "<polygon fill=\"none\" stroke=\"black\" points=\"382.5,-365 290.5,-365 290.5,-297 382.5,-297 382.5,-365\"/>\n",
       "<text text-anchor=\"middle\" x=\"336.5\" y=\"-349.8\" font-family=\"Times,serif\" font-size=\"14.00\">X[1] &lt;= 2.0</text>\n",
       "<text text-anchor=\"middle\" x=\"336.5\" y=\"-334.8\" font-family=\"Times,serif\" font-size=\"14.00\">gini = 0.444</text>\n",
       "<text text-anchor=\"middle\" x=\"336.5\" y=\"-319.8\" font-family=\"Times,serif\" font-size=\"14.00\">samples = 3</text>\n",
       "<text text-anchor=\"middle\" x=\"336.5\" y=\"-304.8\" font-family=\"Times,serif\" font-size=\"14.00\">value = [2, 1]</text>\n",
       "</g>\n",
       "<!-- 11&#45;&gt;12 -->\n",
       "<g id=\"edge12\" class=\"edge\">\n",
       "<title>11&#45;&gt;12</title>\n",
       "<path fill=\"none\" stroke=\"black\" d=\"M337.18,-400.88C337.1,-392.78 337.01,-383.98 336.93,-375.47\"/>\n",
       "<polygon fill=\"black\" stroke=\"black\" points=\"340.42,-375.26 336.83,-365.3 333.42,-375.33 340.42,-375.26\"/>\n",
       "</g>\n",
       "<!-- 15 -->\n",
       "<g id=\"node16\" class=\"node\">\n",
       "<title>15</title>\n",
       "<polygon fill=\"none\" stroke=\"black\" points=\"500,-357.5 401,-357.5 401,-304.5 500,-304.5 500,-357.5\"/>\n",
       "<text text-anchor=\"middle\" x=\"450.5\" y=\"-342.3\" font-family=\"Times,serif\" font-size=\"14.00\">gini = 0.0</text>\n",
       "<text text-anchor=\"middle\" x=\"450.5\" y=\"-327.3\" font-family=\"Times,serif\" font-size=\"14.00\">samples = 95</text>\n",
       "<text text-anchor=\"middle\" x=\"450.5\" y=\"-312.3\" font-family=\"Times,serif\" font-size=\"14.00\">value = [95, 0]</text>\n",
       "</g>\n",
       "<!-- 11&#45;&gt;15 -->\n",
       "<g id=\"edge15\" class=\"edge\">\n",
       "<title>11&#45;&gt;15</title>\n",
       "<path fill=\"none\" stroke=\"black\" d=\"M374.19,-400.88C387.1,-389.23 401.6,-376.14 414.46,-364.53\"/>\n",
       "<polygon fill=\"black\" stroke=\"black\" points=\"417.15,-366.82 422.23,-357.52 412.46,-361.62 417.15,-366.82\"/>\n",
       "</g>\n",
       "<!-- 13 -->\n",
       "<g id=\"node14\" class=\"node\">\n",
       "<title>13</title>\n",
       "<polygon fill=\"none\" stroke=\"black\" points=\"381.5,-253.5 289.5,-253.5 289.5,-200.5 381.5,-200.5 381.5,-253.5\"/>\n",
       "<text text-anchor=\"middle\" x=\"335.5\" y=\"-238.3\" font-family=\"Times,serif\" font-size=\"14.00\">gini = 0.0</text>\n",
       "<text text-anchor=\"middle\" x=\"335.5\" y=\"-223.3\" font-family=\"Times,serif\" font-size=\"14.00\">samples = 2</text>\n",
       "<text text-anchor=\"middle\" x=\"335.5\" y=\"-208.3\" font-family=\"Times,serif\" font-size=\"14.00\">value = [2, 0]</text>\n",
       "</g>\n",
       "<!-- 12&#45;&gt;13 -->\n",
       "<g id=\"edge13\" class=\"edge\">\n",
       "<title>12&#45;&gt;13</title>\n",
       "<path fill=\"none\" stroke=\"black\" d=\"M336.18,-296.88C336.07,-286.33 335.96,-274.6 335.85,-263.85\"/>\n",
       "<polygon fill=\"black\" stroke=\"black\" points=\"339.35,-263.49 335.75,-253.52 332.35,-263.55 339.35,-263.49\"/>\n",
       "</g>\n",
       "<!-- 14 -->\n",
       "<g id=\"node15\" class=\"node\">\n",
       "<title>14</title>\n",
       "<polygon fill=\"none\" stroke=\"black\" points=\"491.5,-253.5 399.5,-253.5 399.5,-200.5 491.5,-200.5 491.5,-253.5\"/>\n",
       "<text text-anchor=\"middle\" x=\"445.5\" y=\"-238.3\" font-family=\"Times,serif\" font-size=\"14.00\">gini = 0.0</text>\n",
       "<text text-anchor=\"middle\" x=\"445.5\" y=\"-223.3\" font-family=\"Times,serif\" font-size=\"14.00\">samples = 1</text>\n",
       "<text text-anchor=\"middle\" x=\"445.5\" y=\"-208.3\" font-family=\"Times,serif\" font-size=\"14.00\">value = [0, 1]</text>\n",
       "</g>\n",
       "<!-- 12&#45;&gt;14 -->\n",
       "<g id=\"edge14\" class=\"edge\">\n",
       "<title>12&#45;&gt;14</title>\n",
       "<path fill=\"none\" stroke=\"black\" d=\"M371.89,-296.88C384.35,-285.23 398.33,-272.14 410.74,-260.53\"/>\n",
       "<polygon fill=\"black\" stroke=\"black\" points=\"413.32,-262.91 418.23,-253.52 408.54,-257.8 413.32,-262.91\"/>\n",
       "</g>\n",
       "<!-- 17 -->\n",
       "<g id=\"node18\" class=\"node\">\n",
       "<title>17</title>\n",
       "<polygon fill=\"none\" stroke=\"black\" points=\"516.5,-461.5 410.5,-461.5 410.5,-408.5 516.5,-408.5 516.5,-461.5\"/>\n",
       "<text text-anchor=\"middle\" x=\"463.5\" y=\"-446.3\" font-family=\"Times,serif\" font-size=\"14.00\">gini = 0.0</text>\n",
       "<text text-anchor=\"middle\" x=\"463.5\" y=\"-431.3\" font-family=\"Times,serif\" font-size=\"14.00\">samples = 158</text>\n",
       "<text text-anchor=\"middle\" x=\"463.5\" y=\"-416.3\" font-family=\"Times,serif\" font-size=\"14.00\">value = [0, 158]</text>\n",
       "</g>\n",
       "<!-- 16&#45;&gt;17 -->\n",
       "<g id=\"edge17\" class=\"edge\">\n",
       "<title>16&#45;&gt;17</title>\n",
       "<path fill=\"none\" stroke=\"black\" d=\"M464.85,-504.88C464.64,-494.22 464.41,-482.35 464.2,-471.52\"/>\n",
       "<polygon fill=\"black\" stroke=\"black\" points=\"467.7,-471.45 464,-461.52 460.7,-471.59 467.7,-471.45\"/>\n",
       "</g>\n",
       "<!-- 18 -->\n",
       "<g id=\"node19\" class=\"node\">\n",
       "<title>18</title>\n",
       "<polygon fill=\"none\" stroke=\"black\" points=\"640.5,-469 534.5,-469 534.5,-401 640.5,-401 640.5,-469\"/>\n",
       "<text text-anchor=\"middle\" x=\"587.5\" y=\"-453.8\" font-family=\"Times,serif\" font-size=\"14.00\">X[3] &lt;= 140.5</text>\n",
       "<text text-anchor=\"middle\" x=\"587.5\" y=\"-438.8\" font-family=\"Times,serif\" font-size=\"14.00\">gini = 0.5</text>\n",
       "<text text-anchor=\"middle\" x=\"587.5\" y=\"-423.8\" font-family=\"Times,serif\" font-size=\"14.00\">samples = 45</text>\n",
       "<text text-anchor=\"middle\" x=\"587.5\" y=\"-408.8\" font-family=\"Times,serif\" font-size=\"14.00\">value = [22, 23]</text>\n",
       "</g>\n",
       "<!-- 16&#45;&gt;18 -->\n",
       "<g id=\"edge18\" class=\"edge\">\n",
       "<title>16&#45;&gt;18</title>\n",
       "<path fill=\"none\" stroke=\"black\" d=\"M505.11,-504.88C516.19,-495.62 528.35,-485.45 539.84,-475.85\"/>\n",
       "<polygon fill=\"black\" stroke=\"black\" points=\"542.24,-478.4 547.67,-469.3 537.75,-473.03 542.24,-478.4\"/>\n",
       "</g>\n",
       "<!-- 19 -->\n",
       "<g id=\"node20\" class=\"node\">\n",
       "<title>19</title>\n",
       "<polygon fill=\"none\" stroke=\"black\" points=\"627,-357.5 528,-357.5 528,-304.5 627,-304.5 627,-357.5\"/>\n",
       "<text text-anchor=\"middle\" x=\"577.5\" y=\"-342.3\" font-family=\"Times,serif\" font-size=\"14.00\">gini = 0.0</text>\n",
       "<text text-anchor=\"middle\" x=\"577.5\" y=\"-327.3\" font-family=\"Times,serif\" font-size=\"14.00\">samples = 22</text>\n",
       "<text text-anchor=\"middle\" x=\"577.5\" y=\"-312.3\" font-family=\"Times,serif\" font-size=\"14.00\">value = [22, 0]</text>\n",
       "</g>\n",
       "<!-- 18&#45;&gt;19 -->\n",
       "<g id=\"edge19\" class=\"edge\">\n",
       "<title>18&#45;&gt;19</title>\n",
       "<path fill=\"none\" stroke=\"black\" d=\"M584.25,-400.88C583.21,-390.22 582.04,-378.35 580.98,-367.52\"/>\n",
       "<polygon fill=\"black\" stroke=\"black\" points=\"584.46,-367.13 580,-357.52 577.49,-367.81 584.46,-367.13\"/>\n",
       "</g>\n",
       "<!-- 20 -->\n",
       "<g id=\"node21\" class=\"node\">\n",
       "<title>20</title>\n",
       "<polygon fill=\"none\" stroke=\"black\" points=\"744,-357.5 645,-357.5 645,-304.5 744,-304.5 744,-357.5\"/>\n",
       "<text text-anchor=\"middle\" x=\"694.5\" y=\"-342.3\" font-family=\"Times,serif\" font-size=\"14.00\">gini = 0.0</text>\n",
       "<text text-anchor=\"middle\" x=\"694.5\" y=\"-327.3\" font-family=\"Times,serif\" font-size=\"14.00\">samples = 23</text>\n",
       "<text text-anchor=\"middle\" x=\"694.5\" y=\"-312.3\" font-family=\"Times,serif\" font-size=\"14.00\">value = [0, 23]</text>\n",
       "</g>\n",
       "<!-- 18&#45;&gt;20 -->\n",
       "<g id=\"edge20\" class=\"edge\">\n",
       "<title>18&#45;&gt;20</title>\n",
       "<path fill=\"none\" stroke=\"black\" d=\"M622.24,-400.88C634.47,-389.23 648.2,-376.14 660.37,-364.53\"/>\n",
       "<polygon fill=\"black\" stroke=\"black\" points=\"662.91,-366.95 667.73,-357.52 658.08,-361.89 662.91,-366.95\"/>\n",
       "</g>\n",
       "</g>\n",
       "</svg>\n"
      ],
      "text/plain": [
       "<graphviz.sources.Source at 0x7fa66e06de50>"
      ]
     },
     "execution_count": 33,
     "metadata": {},
     "output_type": "execute_result"
    }
   ],
   "source": [
    "# As before, but make the model name gini_model\n",
    "print(\"~~~~~ VISUALIZE TREE: EXPORT TEXT ~~~~~\")\n",
    "print(tree.export_text(gini_model))\n",
    "\n",
    "gini_model_graph_data = tree.export_graphviz(gini_model)\n",
    "graph = graphviz.Source(gini_model_graph_data, format=\"png\")\n",
    "graph"
   ]
  },
  {
   "cell_type": "code",
   "execution_count": 34,
   "metadata": {},
   "outputs": [
    {
     "data": {
      "text/plain": [
       "array(['No', 'Yes'], dtype=object)"
      ]
     },
     "execution_count": 34,
     "metadata": {},
     "output_type": "execute_result"
    }
   ],
   "source": [
    "# Alternatively for class_names use gini_model.classes_\n",
    "gini_model.classes_"
   ]
  },
  {
   "cell_type": "code",
   "execution_count": 35,
   "metadata": {
    "colab": {},
    "colab_type": "code",
    "id": "T0RadBy0DuWp"
   },
   "outputs": [
    {
     "name": "stdout",
     "output_type": "stream",
     "text": [
      "Model Gini impurity model\n",
      "Accuracy: 0.9831932773109243\n",
      "Balanced accuracy: 0.9813946216385241\n",
      "Precision score 0.9871794871794872\n",
      "Recall score 0.975609756097561\n"
     ]
    }
   ],
   "source": [
    "# Run this block for model evaluation\n",
    "print(\"Model Gini impurity model\")\n",
    "print(\"Accuracy:\", metrics.accuracy_score(y_test,y_pred))\n",
    "print(\"Balanced accuracy:\", metrics.balanced_accuracy_score(y_test,y_pred))\n",
    "print('Precision score' , metrics.precision_score(y_test,y_pred, pos_label = \"Yes\"))\n",
    "print('Recall score' , metrics.recall_score(y_test,y_pred, pos_label = \"No\"))"
   ]
  },
  {
   "cell_type": "markdown",
   "metadata": {
    "colab_type": "text",
    "id": "LR5LkC_yDuWs"
   },
   "source": [
    "How do the results here compare to the previous model? Write your judgements here:\n",
    "The entropy and gini models appear pretty comparable in terms of Precision and Recall. The entropy model seems to have better accuracy."
   ]
  },
  {
   "cell_type": "markdown",
   "metadata": {
    "colab_type": "text",
    "id": "3PctBjTADuWs"
   },
   "source": [
    "## Model 3: Entropy model - max depth 3\n",
    "We're going to try to limit the depth of our decision tree, using entropy first.  \n",
    "\n",
    "As you know, we need to strike a balance with tree depth. \n",
    "\n",
    "Insufficiently deep, and we're not giving the tree the opportunity to spot the right patterns in the training data.\n",
    "\n",
    "Excessively deep, and we're probably going to make a tree that overfits to the training data, at the cost of very high error on the (hitherto unseen) test data. \n",
    "\n",
    "Sophisticated data scientists use methods like random search with cross-validation to systematically find a good depth for their tree. We'll start with picking 3, and see how that goes. "
   ]
  },
  {
   "cell_type": "code",
   "execution_count": 36,
   "metadata": {
    "colab": {},
    "colab_type": "code",
    "id": "cMiPjWClDuWt"
   },
   "outputs": [
    {
     "data": {
      "text/plain": [
       "DecisionTreeClassifier(criterion='entropy', max_depth=3, random_state=1234)"
      ]
     },
     "execution_count": 36,
     "metadata": {},
     "output_type": "execute_result"
    }
   ],
   "source": [
    "# Made a model as before, but call it entr_model2, and make the max_depth parameter equal to 3. \n",
    "# Execute the fitting, predicting, and Series operations as before\n",
    "entr_model2 = tree.DecisionTreeClassifier(criterion=\"entropy\", max_depth=3, random_state=1234)\n",
    "\n",
    "# Call fit() on entr_model\n",
    "entr_model2.fit(X_train, y_train) \n",
    "\n",
    "# Call predict() on entr_model with X_test passed to it, and assign the result to a variable y_pred \n",
    "y_pred = entr_model2.predict(X_test)\n",
    "\n",
    "# Call Series on our y_pred variable with the following: pd.Series(y_pred)\n",
    "pd.Series(y_pred)\n",
    "\n",
    "# Check out entr_model\n",
    "entr_model2"
   ]
  },
  {
   "cell_type": "code",
   "execution_count": 37,
   "metadata": {},
   "outputs": [
    {
     "name": "stdout",
     "output_type": "stream",
     "text": [
      "~~~~~ VISUALIZE TREE: EXPORT TEXT ~~~~~\n",
      "|--- feature_3 <= 138.00\n",
      "|   |--- feature_5 <= 3.52\n",
      "|   |   |--- feature_3 <= 24.50\n",
      "|   |   |   |--- class: No\n",
      "|   |   |--- feature_3 >  24.50\n",
      "|   |   |   |--- class: Yes\n",
      "|   |--- feature_5 >  3.52\n",
      "|   |   |--- feature_3 <= 101.00\n",
      "|   |   |   |--- class: No\n",
      "|   |   |--- feature_3 >  101.00\n",
      "|   |   |   |--- class: Yes\n",
      "|--- feature_3 >  138.00\n",
      "|   |--- class: Yes\n",
      "\n"
     ]
    },
    {
     "data": {
      "image/svg+xml": [
       "<?xml version=\"1.0\" encoding=\"UTF-8\" standalone=\"no\"?>\n",
       "<!DOCTYPE svg PUBLIC \"-//W3C//DTD SVG 1.1//EN\"\n",
       " \"http://www.w3.org/Graphics/SVG/1.1/DTD/svg11.dtd\">\n",
       "<!-- Generated by graphviz version 2.48.0 (20210717.1556)\n",
       " -->\n",
       "<!-- Title: Tree Pages: 1 -->\n",
       "<svg width=\"474pt\" height=\"373pt\"\n",
       " viewBox=\"0.00 0.00 474.00 373.00\" xmlns=\"http://www.w3.org/2000/svg\" xmlns:xlink=\"http://www.w3.org/1999/xlink\">\n",
       "<g id=\"graph0\" class=\"graph\" transform=\"scale(1 1) rotate(0) translate(4 369)\">\n",
       "<title>Tree</title>\n",
       "<polygon fill=\"white\" stroke=\"transparent\" points=\"-4,4 -4,-369 470,-369 470,4 -4,4\"/>\n",
       "<!-- 0 -->\n",
       "<g id=\"node1\" class=\"node\">\n",
       "<title>0</title>\n",
       "<polygon fill=\"none\" stroke=\"black\" points=\"351,-365 231,-365 231,-297 351,-297 351,-365\"/>\n",
       "<text text-anchor=\"middle\" x=\"291\" y=\"-349.8\" font-family=\"Times,serif\" font-size=\"14.00\">X[3] &lt;= 138.0</text>\n",
       "<text text-anchor=\"middle\" x=\"291\" y=\"-334.8\" font-family=\"Times,serif\" font-size=\"14.00\">entropy = 0.948</text>\n",
       "<text text-anchor=\"middle\" x=\"291\" y=\"-319.8\" font-family=\"Times,serif\" font-size=\"14.00\">samples = 355</text>\n",
       "<text text-anchor=\"middle\" x=\"291\" y=\"-304.8\" font-family=\"Times,serif\" font-size=\"14.00\">value = [130, 225]</text>\n",
       "</g>\n",
       "<!-- 1 -->\n",
       "<g id=\"node2\" class=\"node\">\n",
       "<title>1</title>\n",
       "<polygon fill=\"none\" stroke=\"black\" points=\"286,-261 166,-261 166,-193 286,-193 286,-261\"/>\n",
       "<text text-anchor=\"middle\" x=\"226\" y=\"-245.8\" font-family=\"Times,serif\" font-size=\"14.00\">X[5] &lt;= 3.524</text>\n",
       "<text text-anchor=\"middle\" x=\"226\" y=\"-230.8\" font-family=\"Times,serif\" font-size=\"14.00\">entropy = 0.991</text>\n",
       "<text text-anchor=\"middle\" x=\"226\" y=\"-215.8\" font-family=\"Times,serif\" font-size=\"14.00\">samples = 234</text>\n",
       "<text text-anchor=\"middle\" x=\"226\" y=\"-200.8\" font-family=\"Times,serif\" font-size=\"14.00\">value = [130, 104]</text>\n",
       "</g>\n",
       "<!-- 0&#45;&gt;1 -->\n",
       "<g id=\"edge1\" class=\"edge\">\n",
       "<title>0&#45;&gt;1</title>\n",
       "<path fill=\"none\" stroke=\"black\" d=\"M269.9,-296.88C264.39,-288.24 258.38,-278.82 252.63,-269.79\"/>\n",
       "<polygon fill=\"black\" stroke=\"black\" points=\"255.55,-267.85 247.22,-261.3 249.64,-271.61 255.55,-267.85\"/>\n",
       "<text text-anchor=\"middle\" x=\"241.81\" y=\"-282.01\" font-family=\"Times,serif\" font-size=\"14.00\">True</text>\n",
       "</g>\n",
       "<!-- 8 -->\n",
       "<g id=\"node9\" class=\"node\">\n",
       "<title>8</title>\n",
       "<polygon fill=\"none\" stroke=\"black\" points=\"410,-253.5 304,-253.5 304,-200.5 410,-200.5 410,-253.5\"/>\n",
       "<text text-anchor=\"middle\" x=\"357\" y=\"-238.3\" font-family=\"Times,serif\" font-size=\"14.00\">entropy = 0.0</text>\n",
       "<text text-anchor=\"middle\" x=\"357\" y=\"-223.3\" font-family=\"Times,serif\" font-size=\"14.00\">samples = 121</text>\n",
       "<text text-anchor=\"middle\" x=\"357\" y=\"-208.3\" font-family=\"Times,serif\" font-size=\"14.00\">value = [0, 121]</text>\n",
       "</g>\n",
       "<!-- 0&#45;&gt;8 -->\n",
       "<g id=\"edge8\" class=\"edge\">\n",
       "<title>0&#45;&gt;8</title>\n",
       "<path fill=\"none\" stroke=\"black\" d=\"M312.43,-296.88C319.62,-285.78 327.64,-273.37 334.88,-262.18\"/>\n",
       "<polygon fill=\"black\" stroke=\"black\" points=\"337.99,-263.82 340.49,-253.52 332.12,-260.01 337.99,-263.82\"/>\n",
       "<text text-anchor=\"middle\" x=\"345.73\" y=\"-274.26\" font-family=\"Times,serif\" font-size=\"14.00\">False</text>\n",
       "</g>\n",
       "<!-- 2 -->\n",
       "<g id=\"node3\" class=\"node\">\n",
       "<title>2</title>\n",
       "<polygon fill=\"none\" stroke=\"black\" points=\"215,-157 109,-157 109,-89 215,-89 215,-157\"/>\n",
       "<text text-anchor=\"middle\" x=\"162\" y=\"-141.8\" font-family=\"Times,serif\" font-size=\"14.00\">X[3] &lt;= 24.5</text>\n",
       "<text text-anchor=\"middle\" x=\"162\" y=\"-126.8\" font-family=\"Times,serif\" font-size=\"14.00\">entropy = 0.512</text>\n",
       "<text text-anchor=\"middle\" x=\"162\" y=\"-111.8\" font-family=\"Times,serif\" font-size=\"14.00\">samples = 79</text>\n",
       "<text text-anchor=\"middle\" x=\"162\" y=\"-96.8\" font-family=\"Times,serif\" font-size=\"14.00\">value = [9, 70]</text>\n",
       "</g>\n",
       "<!-- 1&#45;&gt;2 -->\n",
       "<g id=\"edge2\" class=\"edge\">\n",
       "<title>1&#45;&gt;2</title>\n",
       "<path fill=\"none\" stroke=\"black\" d=\"M205.22,-192.88C199.8,-184.24 193.89,-174.82 188.22,-165.79\"/>\n",
       "<polygon fill=\"black\" stroke=\"black\" points=\"191.17,-163.91 182.89,-157.3 185.24,-167.63 191.17,-163.91\"/>\n",
       "</g>\n",
       "<!-- 5 -->\n",
       "<g id=\"node6\" class=\"node\">\n",
       "<title>5</title>\n",
       "<polygon fill=\"none\" stroke=\"black\" points=\"346.5,-157 233.5,-157 233.5,-89 346.5,-89 346.5,-157\"/>\n",
       "<text text-anchor=\"middle\" x=\"290\" y=\"-141.8\" font-family=\"Times,serif\" font-size=\"14.00\">X[3] &lt;= 101.0</text>\n",
       "<text text-anchor=\"middle\" x=\"290\" y=\"-126.8\" font-family=\"Times,serif\" font-size=\"14.00\">entropy = 0.759</text>\n",
       "<text text-anchor=\"middle\" x=\"290\" y=\"-111.8\" font-family=\"Times,serif\" font-size=\"14.00\">samples = 155</text>\n",
       "<text text-anchor=\"middle\" x=\"290\" y=\"-96.8\" font-family=\"Times,serif\" font-size=\"14.00\">value = [121, 34]</text>\n",
       "</g>\n",
       "<!-- 1&#45;&gt;5 -->\n",
       "<g id=\"edge5\" class=\"edge\">\n",
       "<title>1&#45;&gt;5</title>\n",
       "<path fill=\"none\" stroke=\"black\" d=\"M246.78,-192.88C252.2,-184.24 258.11,-174.82 263.78,-165.79\"/>\n",
       "<polygon fill=\"black\" stroke=\"black\" points=\"266.76,-167.63 269.11,-157.3 260.83,-163.91 266.76,-167.63\"/>\n",
       "</g>\n",
       "<!-- 3 -->\n",
       "<g id=\"node4\" class=\"node\">\n",
       "<title>3</title>\n",
       "<polygon fill=\"none\" stroke=\"black\" points=\"92,-53 0,-53 0,0 92,0 92,-53\"/>\n",
       "<text text-anchor=\"middle\" x=\"46\" y=\"-37.8\" font-family=\"Times,serif\" font-size=\"14.00\">entropy = 0.0</text>\n",
       "<text text-anchor=\"middle\" x=\"46\" y=\"-22.8\" font-family=\"Times,serif\" font-size=\"14.00\">samples = 8</text>\n",
       "<text text-anchor=\"middle\" x=\"46\" y=\"-7.8\" font-family=\"Times,serif\" font-size=\"14.00\">value = [8, 0]</text>\n",
       "</g>\n",
       "<!-- 2&#45;&gt;3 -->\n",
       "<g id=\"edge3\" class=\"edge\">\n",
       "<title>2&#45;&gt;3</title>\n",
       "<path fill=\"none\" stroke=\"black\" d=\"M121.43,-88.95C109.75,-79.43 97.03,-69.07 85.42,-59.62\"/>\n",
       "<polygon fill=\"black\" stroke=\"black\" points=\"87.56,-56.84 77.59,-53.24 83.13,-62.27 87.56,-56.84\"/>\n",
       "</g>\n",
       "<!-- 4 -->\n",
       "<g id=\"node5\" class=\"node\">\n",
       "<title>4</title>\n",
       "<polygon fill=\"none\" stroke=\"black\" points=\"216,-53 110,-53 110,0 216,0 216,-53\"/>\n",
       "<text text-anchor=\"middle\" x=\"163\" y=\"-37.8\" font-family=\"Times,serif\" font-size=\"14.00\">entropy = 0.107</text>\n",
       "<text text-anchor=\"middle\" x=\"163\" y=\"-22.8\" font-family=\"Times,serif\" font-size=\"14.00\">samples = 71</text>\n",
       "<text text-anchor=\"middle\" x=\"163\" y=\"-7.8\" font-family=\"Times,serif\" font-size=\"14.00\">value = [1, 70]</text>\n",
       "</g>\n",
       "<!-- 2&#45;&gt;4 -->\n",
       "<g id=\"edge4\" class=\"edge\">\n",
       "<title>2&#45;&gt;4</title>\n",
       "<path fill=\"none\" stroke=\"black\" d=\"M162.35,-88.95C162.44,-80.72 162.53,-71.85 162.62,-63.48\"/>\n",
       "<polygon fill=\"black\" stroke=\"black\" points=\"166.12,-63.27 162.73,-53.24 159.12,-63.2 166.12,-63.27\"/>\n",
       "</g>\n",
       "<!-- 6 -->\n",
       "<g id=\"node7\" class=\"node\">\n",
       "<title>6</title>\n",
       "<polygon fill=\"none\" stroke=\"black\" points=\"342,-53 236,-53 236,0 342,0 342,-53\"/>\n",
       "<text text-anchor=\"middle\" x=\"289\" y=\"-37.8\" font-family=\"Times,serif\" font-size=\"14.00\">entropy = 0.191</text>\n",
       "<text text-anchor=\"middle\" x=\"289\" y=\"-22.8\" font-family=\"Times,serif\" font-size=\"14.00\">samples = 102</text>\n",
       "<text text-anchor=\"middle\" x=\"289\" y=\"-7.8\" font-family=\"Times,serif\" font-size=\"14.00\">value = [99, 3]</text>\n",
       "</g>\n",
       "<!-- 5&#45;&gt;6 -->\n",
       "<g id=\"edge6\" class=\"edge\">\n",
       "<title>5&#45;&gt;6</title>\n",
       "<path fill=\"none\" stroke=\"black\" d=\"M289.65,-88.95C289.56,-80.72 289.47,-71.85 289.38,-63.48\"/>\n",
       "<polygon fill=\"black\" stroke=\"black\" points=\"292.88,-63.2 289.27,-53.24 285.88,-63.27 292.88,-63.2\"/>\n",
       "</g>\n",
       "<!-- 7 -->\n",
       "<g id=\"node8\" class=\"node\">\n",
       "<title>7</title>\n",
       "<polygon fill=\"none\" stroke=\"black\" points=\"466,-53 360,-53 360,0 466,0 466,-53\"/>\n",
       "<text text-anchor=\"middle\" x=\"413\" y=\"-37.8\" font-family=\"Times,serif\" font-size=\"14.00\">entropy = 0.979</text>\n",
       "<text text-anchor=\"middle\" x=\"413\" y=\"-22.8\" font-family=\"Times,serif\" font-size=\"14.00\">samples = 53</text>\n",
       "<text text-anchor=\"middle\" x=\"413\" y=\"-7.8\" font-family=\"Times,serif\" font-size=\"14.00\">value = [22, 31]</text>\n",
       "</g>\n",
       "<!-- 5&#45;&gt;7 -->\n",
       "<g id=\"edge7\" class=\"edge\">\n",
       "<title>5&#45;&gt;7</title>\n",
       "<path fill=\"none\" stroke=\"black\" d=\"M333.02,-88.95C345.52,-79.34 359.15,-68.87 371.55,-59.34\"/>\n",
       "<polygon fill=\"black\" stroke=\"black\" points=\"373.7,-62.1 379.5,-53.24 369.44,-56.55 373.7,-62.1\"/>\n",
       "</g>\n",
       "</g>\n",
       "</svg>\n"
      ],
      "text/plain": [
       "<graphviz.sources.Source at 0x7fa66e112a60>"
      ]
     },
     "execution_count": 37,
     "metadata": {},
     "output_type": "execute_result"
    }
   ],
   "source": [
    "# Now we want to visualize the tree\n",
    "print(\"~~~~~ VISUALIZE TREE: EXPORT TEXT ~~~~~\")\n",
    "print(tree.export_text(entr_model2))\n",
    "\n",
    "# We can do so with export_graphviz\n",
    "\n",
    "entr_model2_graph_data = tree.export_graphviz(entr_model2)\n",
    "graph = graphviz.Source(entr_model2_graph_data, format=\"png\")\n",
    "\n",
    "graph"
   ]
  },
  {
   "cell_type": "code",
   "execution_count": 38,
   "metadata": {
    "colab": {},
    "colab_type": "code",
    "id": "IRuw72VMDuWv"
   },
   "outputs": [
    {
     "data": {
      "text/plain": [
       "array(['No', 'Yes'], dtype=object)"
      ]
     },
     "execution_count": 38,
     "metadata": {},
     "output_type": "execute_result"
    }
   ],
   "source": [
    "# Alternatively for class_names use entr_model2.classes_\n",
    "entr_model2.classes_"
   ]
  },
  {
   "cell_type": "code",
   "execution_count": 39,
   "metadata": {
    "colab": {},
    "colab_type": "code",
    "id": "29f4vmmMDuWy"
   },
   "outputs": [
    {
     "name": "stdout",
     "output_type": "stream",
     "text": [
      "Model Entropy model max depth 3\n",
      "Accuracy: 0.907563025210084\n",
      "Balanced accuracy: 0.8658536585365854\n",
      "Precision score for \"Yes\" 0.8764044943820225\n",
      "Recall score for \"No\" 0.7317073170731707\n"
     ]
    }
   ],
   "source": [
    "# Run this block for model evaluation \n",
    "print(\"Model Entropy model max depth 3\")\n",
    "print(\"Accuracy:\", metrics.accuracy_score(y_test,y_pred))\n",
    "print(\"Balanced accuracy:\", metrics.balanced_accuracy_score(y_test,y_pred))\n",
    "print('Precision score for \"Yes\"' , metrics.precision_score(y_test,y_pred, pos_label = \"Yes\"))\n",
    "print('Recall score for \"No\"' , metrics.recall_score(y_test,y_pred, pos_label = \"No\"))"
   ]
  },
  {
   "cell_type": "markdown",
   "metadata": {
    "colab_type": "text",
    "id": "AG7S2YgUDuW4"
   },
   "source": [
    "So our accuracy decreased, but is this certainly an inferior tree to the max depth original tree we did with Model 1? Write your conclusions here: "
   ]
  },
  {
   "cell_type": "markdown",
   "metadata": {
    "colab_type": "text",
    "id": "FZTl4W3wDuW4"
   },
   "source": [
    "## Model 4: Gini impurity  model - max depth 3\n",
    "We're now going to try the same with the Gini impurity model. "
   ]
  },
  {
   "cell_type": "code",
   "execution_count": 40,
   "metadata": {
    "colab": {},
    "colab_type": "code",
    "id": "FJK1bkG3DuW5"
   },
   "outputs": [
    {
     "data": {
      "text/plain": [
       "DecisionTreeClassifier(max_depth=3, random_state=1234)"
      ]
     },
     "execution_count": 40,
     "metadata": {},
     "output_type": "execute_result"
    }
   ],
   "source": [
    "# As before, make a variable, but call it gini_model2, and ensure the max_depth parameter is set to 3\n",
    "gini_model2 = tree.DecisionTreeClassifier(criterion ='gini', max_depth = 3, random_state  = 1234)\n",
    "\n",
    "# Do the fit, predict, and series transformations as before. \n",
    "gini_model2.fit(X_train, y_train)\n",
    "y_pred = gini_model2.predict(X_test)\n",
    "pd.Series(y_pred)\n",
    "\n",
    "# Check out entr_model\n",
    "gini_model2"
   ]
  },
  {
   "cell_type": "code",
   "execution_count": 41,
   "metadata": {
    "colab": {},
    "colab_type": "code",
    "id": "_UIWhKZBDuW7"
   },
   "outputs": [
    {
     "data": {
      "image/svg+xml": [
       "<?xml version=\"1.0\" encoding=\"UTF-8\" standalone=\"no\"?>\n",
       "<!DOCTYPE svg PUBLIC \"-//W3C//DTD SVG 1.1//EN\"\n",
       " \"http://www.w3.org/Graphics/SVG/1.1/DTD/svg11.dtd\">\n",
       "<!-- Generated by graphviz version 2.48.0 (20210717.1556)\n",
       " -->\n",
       "<!-- Title: Tree Pages: 1 -->\n",
       "<svg width=\"694pt\" height=\"373pt\"\n",
       " viewBox=\"0.00 0.00 693.50 373.00\" xmlns=\"http://www.w3.org/2000/svg\" xmlns:xlink=\"http://www.w3.org/1999/xlink\">\n",
       "<g id=\"graph0\" class=\"graph\" transform=\"scale(1 1) rotate(0) translate(4 369)\">\n",
       "<title>Tree</title>\n",
       "<polygon fill=\"white\" stroke=\"transparent\" points=\"-4,4 -4,-369 689.5,-369 689.5,4 -4,4\"/>\n",
       "<!-- 0 -->\n",
       "<g id=\"node1\" class=\"node\">\n",
       "<title>0</title>\n",
       "<polygon fill=\"none\" stroke=\"black\" points=\"401,-365 281,-365 281,-297 401,-297 401,-365\"/>\n",
       "<text text-anchor=\"middle\" x=\"341\" y=\"-349.8\" font-family=\"Times,serif\" font-size=\"14.00\">X[3] &lt;= 100.5</text>\n",
       "<text text-anchor=\"middle\" x=\"341\" y=\"-334.8\" font-family=\"Times,serif\" font-size=\"14.00\">gini = 0.464</text>\n",
       "<text text-anchor=\"middle\" x=\"341\" y=\"-319.8\" font-family=\"Times,serif\" font-size=\"14.00\">samples = 355</text>\n",
       "<text text-anchor=\"middle\" x=\"341\" y=\"-304.8\" font-family=\"Times,serif\" font-size=\"14.00\">value = [130, 225]</text>\n",
       "</g>\n",
       "<!-- 1 -->\n",
       "<g id=\"node2\" class=\"node\">\n",
       "<title>1</title>\n",
       "<polygon fill=\"none\" stroke=\"black\" points=\"332.5,-261 219.5,-261 219.5,-193 332.5,-193 332.5,-261\"/>\n",
       "<text text-anchor=\"middle\" x=\"276\" y=\"-245.8\" font-family=\"Times,serif\" font-size=\"14.00\">X[5] &lt;= 3.754</text>\n",
       "<text text-anchor=\"middle\" x=\"276\" y=\"-230.8\" font-family=\"Times,serif\" font-size=\"14.00\">gini = 0.411</text>\n",
       "<text text-anchor=\"middle\" x=\"276\" y=\"-215.8\" font-family=\"Times,serif\" font-size=\"14.00\">samples = 152</text>\n",
       "<text text-anchor=\"middle\" x=\"276\" y=\"-200.8\" font-family=\"Times,serif\" font-size=\"14.00\">value = [108, 44]</text>\n",
       "</g>\n",
       "<!-- 0&#45;&gt;1 -->\n",
       "<g id=\"edge1\" class=\"edge\">\n",
       "<title>0&#45;&gt;1</title>\n",
       "<path fill=\"none\" stroke=\"black\" d=\"M319.9,-296.88C314.39,-288.24 308.38,-278.82 302.63,-269.79\"/>\n",
       "<polygon fill=\"black\" stroke=\"black\" points=\"305.55,-267.85 297.22,-261.3 299.64,-271.61 305.55,-267.85\"/>\n",
       "<text text-anchor=\"middle\" x=\"291.81\" y=\"-282.01\" font-family=\"Times,serif\" font-size=\"14.00\">True</text>\n",
       "</g>\n",
       "<!-- 8 -->\n",
       "<g id=\"node9\" class=\"node\">\n",
       "<title>8</title>\n",
       "<polygon fill=\"none\" stroke=\"black\" points=\"463.5,-261 350.5,-261 350.5,-193 463.5,-193 463.5,-261\"/>\n",
       "<text text-anchor=\"middle\" x=\"407\" y=\"-245.8\" font-family=\"Times,serif\" font-size=\"14.00\">X[5] &lt;= 8.047</text>\n",
       "<text text-anchor=\"middle\" x=\"407\" y=\"-230.8\" font-family=\"Times,serif\" font-size=\"14.00\">gini = 0.193</text>\n",
       "<text text-anchor=\"middle\" x=\"407\" y=\"-215.8\" font-family=\"Times,serif\" font-size=\"14.00\">samples = 203</text>\n",
       "<text text-anchor=\"middle\" x=\"407\" y=\"-200.8\" font-family=\"Times,serif\" font-size=\"14.00\">value = [22, 181]</text>\n",
       "</g>\n",
       "<!-- 0&#45;&gt;8 -->\n",
       "<g id=\"edge8\" class=\"edge\">\n",
       "<title>0&#45;&gt;8</title>\n",
       "<path fill=\"none\" stroke=\"black\" d=\"M362.43,-296.88C368.02,-288.24 374.12,-278.82 379.96,-269.79\"/>\n",
       "<polygon fill=\"black\" stroke=\"black\" points=\"382.96,-271.6 385.45,-261.3 377.08,-267.79 382.96,-271.6\"/>\n",
       "<text text-anchor=\"middle\" x=\"390.69\" y=\"-282.04\" font-family=\"Times,serif\" font-size=\"14.00\">False</text>\n",
       "</g>\n",
       "<!-- 2 -->\n",
       "<g id=\"node3\" class=\"node\">\n",
       "<title>2</title>\n",
       "<polygon fill=\"none\" stroke=\"black\" points=\"211,-157 105,-157 105,-89 211,-89 211,-157\"/>\n",
       "<text text-anchor=\"middle\" x=\"158\" y=\"-141.8\" font-family=\"Times,serif\" font-size=\"14.00\">X[3] &lt;= 24.5</text>\n",
       "<text text-anchor=\"middle\" x=\"158\" y=\"-126.8\" font-family=\"Times,serif\" font-size=\"14.00\">gini = 0.324</text>\n",
       "<text text-anchor=\"middle\" x=\"158\" y=\"-111.8\" font-family=\"Times,serif\" font-size=\"14.00\">samples = 54</text>\n",
       "<text text-anchor=\"middle\" x=\"158\" y=\"-96.8\" font-family=\"Times,serif\" font-size=\"14.00\">value = [11, 43]</text>\n",
       "</g>\n",
       "<!-- 1&#45;&gt;2 -->\n",
       "<g id=\"edge2\" class=\"edge\">\n",
       "<title>1&#45;&gt;2</title>\n",
       "<path fill=\"none\" stroke=\"black\" d=\"M237.69,-192.88C226.97,-183.62 215.21,-173.45 204.1,-163.85\"/>\n",
       "<polygon fill=\"black\" stroke=\"black\" points=\"206.38,-161.19 196.52,-157.3 201.8,-166.49 206.38,-161.19\"/>\n",
       "</g>\n",
       "<!-- 5 -->\n",
       "<g id=\"node6\" class=\"node\">\n",
       "<title>5</title>\n",
       "<polygon fill=\"none\" stroke=\"black\" points=\"328.5,-157 229.5,-157 229.5,-89 328.5,-89 328.5,-157\"/>\n",
       "<text text-anchor=\"middle\" x=\"279\" y=\"-141.8\" font-family=\"Times,serif\" font-size=\"14.00\">X[5] &lt;= 4.0</text>\n",
       "<text text-anchor=\"middle\" x=\"279\" y=\"-126.8\" font-family=\"Times,serif\" font-size=\"14.00\">gini = 0.02</text>\n",
       "<text text-anchor=\"middle\" x=\"279\" y=\"-111.8\" font-family=\"Times,serif\" font-size=\"14.00\">samples = 98</text>\n",
       "<text text-anchor=\"middle\" x=\"279\" y=\"-96.8\" font-family=\"Times,serif\" font-size=\"14.00\">value = [97, 1]</text>\n",
       "</g>\n",
       "<!-- 1&#45;&gt;5 -->\n",
       "<g id=\"edge5\" class=\"edge\">\n",
       "<title>1&#45;&gt;5</title>\n",
       "<path fill=\"none\" stroke=\"black\" d=\"M276.97,-192.88C277.21,-184.78 277.47,-175.98 277.72,-167.47\"/>\n",
       "<polygon fill=\"black\" stroke=\"black\" points=\"281.23,-167.4 278.02,-157.3 274.23,-167.19 281.23,-167.4\"/>\n",
       "</g>\n",
       "<!-- 3 -->\n",
       "<g id=\"node4\" class=\"node\">\n",
       "<title>3</title>\n",
       "<polygon fill=\"none\" stroke=\"black\" points=\"92,-53 0,-53 0,0 92,0 92,-53\"/>\n",
       "<text text-anchor=\"middle\" x=\"46\" y=\"-37.8\" font-family=\"Times,serif\" font-size=\"14.00\">gini = 0.0</text>\n",
       "<text text-anchor=\"middle\" x=\"46\" y=\"-22.8\" font-family=\"Times,serif\" font-size=\"14.00\">samples = 8</text>\n",
       "<text text-anchor=\"middle\" x=\"46\" y=\"-7.8\" font-family=\"Times,serif\" font-size=\"14.00\">value = [8, 0]</text>\n",
       "</g>\n",
       "<!-- 2&#45;&gt;3 -->\n",
       "<g id=\"edge3\" class=\"edge\">\n",
       "<title>2&#45;&gt;3</title>\n",
       "<path fill=\"none\" stroke=\"black\" d=\"M118.83,-88.95C107.66,-79.53 95.51,-69.27 84.39,-59.89\"/>\n",
       "<polygon fill=\"black\" stroke=\"black\" points=\"86.4,-57.01 76.5,-53.24 81.89,-62.36 86.4,-57.01\"/>\n",
       "</g>\n",
       "<!-- 4 -->\n",
       "<g id=\"node5\" class=\"node\">\n",
       "<title>4</title>\n",
       "<polygon fill=\"none\" stroke=\"black\" points=\"209.5,-53 110.5,-53 110.5,0 209.5,0 209.5,-53\"/>\n",
       "<text text-anchor=\"middle\" x=\"160\" y=\"-37.8\" font-family=\"Times,serif\" font-size=\"14.00\">gini = 0.122</text>\n",
       "<text text-anchor=\"middle\" x=\"160\" y=\"-22.8\" font-family=\"Times,serif\" font-size=\"14.00\">samples = 46</text>\n",
       "<text text-anchor=\"middle\" x=\"160\" y=\"-7.8\" font-family=\"Times,serif\" font-size=\"14.00\">value = [3, 43]</text>\n",
       "</g>\n",
       "<!-- 2&#45;&gt;4 -->\n",
       "<g id=\"edge4\" class=\"edge\">\n",
       "<title>2&#45;&gt;4</title>\n",
       "<path fill=\"none\" stroke=\"black\" d=\"M158.7,-88.95C158.87,-80.72 159.06,-71.85 159.24,-63.48\"/>\n",
       "<polygon fill=\"black\" stroke=\"black\" points=\"162.74,-63.31 159.46,-53.24 155.74,-63.16 162.74,-63.31\"/>\n",
       "</g>\n",
       "<!-- 6 -->\n",
       "<g id=\"node7\" class=\"node\">\n",
       "<title>6</title>\n",
       "<polygon fill=\"none\" stroke=\"black\" points=\"323,-53 231,-53 231,0 323,0 323,-53\"/>\n",
       "<text text-anchor=\"middle\" x=\"277\" y=\"-37.8\" font-family=\"Times,serif\" font-size=\"14.00\">gini = 0.444</text>\n",
       "<text text-anchor=\"middle\" x=\"277\" y=\"-22.8\" font-family=\"Times,serif\" font-size=\"14.00\">samples = 3</text>\n",
       "<text text-anchor=\"middle\" x=\"277\" y=\"-7.8\" font-family=\"Times,serif\" font-size=\"14.00\">value = [2, 1]</text>\n",
       "</g>\n",
       "<!-- 5&#45;&gt;6 -->\n",
       "<g id=\"edge6\" class=\"edge\">\n",
       "<title>5&#45;&gt;6</title>\n",
       "<path fill=\"none\" stroke=\"black\" d=\"M278.3,-88.95C278.13,-80.72 277.94,-71.85 277.76,-63.48\"/>\n",
       "<polygon fill=\"black\" stroke=\"black\" points=\"281.26,-63.16 277.54,-53.24 274.26,-63.31 281.26,-63.16\"/>\n",
       "</g>\n",
       "<!-- 7 -->\n",
       "<g id=\"node8\" class=\"node\">\n",
       "<title>7</title>\n",
       "<polygon fill=\"none\" stroke=\"black\" points=\"440.5,-53 341.5,-53 341.5,0 440.5,0 440.5,-53\"/>\n",
       "<text text-anchor=\"middle\" x=\"391\" y=\"-37.8\" font-family=\"Times,serif\" font-size=\"14.00\">gini = 0.0</text>\n",
       "<text text-anchor=\"middle\" x=\"391\" y=\"-22.8\" font-family=\"Times,serif\" font-size=\"14.00\">samples = 95</text>\n",
       "<text text-anchor=\"middle\" x=\"391\" y=\"-7.8\" font-family=\"Times,serif\" font-size=\"14.00\">value = [95, 0]</text>\n",
       "</g>\n",
       "<!-- 5&#45;&gt;7 -->\n",
       "<g id=\"edge7\" class=\"edge\">\n",
       "<title>5&#45;&gt;7</title>\n",
       "<path fill=\"none\" stroke=\"black\" d=\"M318.17,-88.95C329.34,-79.53 341.49,-69.27 352.61,-59.89\"/>\n",
       "<polygon fill=\"black\" stroke=\"black\" points=\"355.11,-62.36 360.5,-53.24 350.6,-57.01 355.11,-62.36\"/>\n",
       "</g>\n",
       "<!-- 9 -->\n",
       "<g id=\"node10\" class=\"node\">\n",
       "<title>9</title>\n",
       "<polygon fill=\"none\" stroke=\"black\" points=\"458,-149.5 352,-149.5 352,-96.5 458,-96.5 458,-149.5\"/>\n",
       "<text text-anchor=\"middle\" x=\"405\" y=\"-134.3\" font-family=\"Times,serif\" font-size=\"14.00\">gini = 0.0</text>\n",
       "<text text-anchor=\"middle\" x=\"405\" y=\"-119.3\" font-family=\"Times,serif\" font-size=\"14.00\">samples = 158</text>\n",
       "<text text-anchor=\"middle\" x=\"405\" y=\"-104.3\" font-family=\"Times,serif\" font-size=\"14.00\">value = [0, 158]</text>\n",
       "</g>\n",
       "<!-- 8&#45;&gt;9 -->\n",
       "<g id=\"edge9\" class=\"edge\">\n",
       "<title>8&#45;&gt;9</title>\n",
       "<path fill=\"none\" stroke=\"black\" d=\"M406.35,-192.88C406.14,-182.22 405.91,-170.35 405.7,-159.52\"/>\n",
       "<polygon fill=\"black\" stroke=\"black\" points=\"409.2,-159.45 405.5,-149.52 402.2,-159.59 409.2,-159.45\"/>\n",
       "</g>\n",
       "<!-- 10 -->\n",
       "<g id=\"node11\" class=\"node\">\n",
       "<title>10</title>\n",
       "<polygon fill=\"none\" stroke=\"black\" points=\"582,-157 476,-157 476,-89 582,-89 582,-157\"/>\n",
       "<text text-anchor=\"middle\" x=\"529\" y=\"-141.8\" font-family=\"Times,serif\" font-size=\"14.00\">X[3] &lt;= 140.5</text>\n",
       "<text text-anchor=\"middle\" x=\"529\" y=\"-126.8\" font-family=\"Times,serif\" font-size=\"14.00\">gini = 0.5</text>\n",
       "<text text-anchor=\"middle\" x=\"529\" y=\"-111.8\" font-family=\"Times,serif\" font-size=\"14.00\">samples = 45</text>\n",
       "<text text-anchor=\"middle\" x=\"529\" y=\"-96.8\" font-family=\"Times,serif\" font-size=\"14.00\">value = [22, 23]</text>\n",
       "</g>\n",
       "<!-- 8&#45;&gt;10 -->\n",
       "<g id=\"edge10\" class=\"edge\">\n",
       "<title>8&#45;&gt;10</title>\n",
       "<path fill=\"none\" stroke=\"black\" d=\"M446.61,-192.88C457.69,-183.62 469.85,-173.45 481.34,-163.85\"/>\n",
       "<polygon fill=\"black\" stroke=\"black\" points=\"483.74,-166.4 489.17,-157.3 479.25,-161.03 483.74,-166.4\"/>\n",
       "</g>\n",
       "<!-- 11 -->\n",
       "<g id=\"node12\" class=\"node\">\n",
       "<title>11</title>\n",
       "<polygon fill=\"none\" stroke=\"black\" points=\"568.5,-53 469.5,-53 469.5,0 568.5,0 568.5,-53\"/>\n",
       "<text text-anchor=\"middle\" x=\"519\" y=\"-37.8\" font-family=\"Times,serif\" font-size=\"14.00\">gini = 0.0</text>\n",
       "<text text-anchor=\"middle\" x=\"519\" y=\"-22.8\" font-family=\"Times,serif\" font-size=\"14.00\">samples = 22</text>\n",
       "<text text-anchor=\"middle\" x=\"519\" y=\"-7.8\" font-family=\"Times,serif\" font-size=\"14.00\">value = [22, 0]</text>\n",
       "</g>\n",
       "<!-- 10&#45;&gt;11 -->\n",
       "<g id=\"edge11\" class=\"edge\">\n",
       "<title>10&#45;&gt;11</title>\n",
       "<path fill=\"none\" stroke=\"black\" d=\"M525.5,-88.95C524.62,-80.62 523.67,-71.65 522.78,-63.2\"/>\n",
       "<polygon fill=\"black\" stroke=\"black\" points=\"526.26,-62.81 521.72,-53.24 519.3,-63.55 526.26,-62.81\"/>\n",
       "</g>\n",
       "<!-- 12 -->\n",
       "<g id=\"node13\" class=\"node\">\n",
       "<title>12</title>\n",
       "<polygon fill=\"none\" stroke=\"black\" points=\"685.5,-53 586.5,-53 586.5,0 685.5,0 685.5,-53\"/>\n",
       "<text text-anchor=\"middle\" x=\"636\" y=\"-37.8\" font-family=\"Times,serif\" font-size=\"14.00\">gini = 0.0</text>\n",
       "<text text-anchor=\"middle\" x=\"636\" y=\"-22.8\" font-family=\"Times,serif\" font-size=\"14.00\">samples = 23</text>\n",
       "<text text-anchor=\"middle\" x=\"636\" y=\"-7.8\" font-family=\"Times,serif\" font-size=\"14.00\">value = [0, 23]</text>\n",
       "</g>\n",
       "<!-- 10&#45;&gt;12 -->\n",
       "<g id=\"edge12\" class=\"edge\">\n",
       "<title>10&#45;&gt;12</title>\n",
       "<path fill=\"none\" stroke=\"black\" d=\"M566.42,-88.95C577.09,-79.53 588.7,-69.27 599.32,-59.89\"/>\n",
       "<polygon fill=\"black\" stroke=\"black\" points=\"601.68,-62.48 606.86,-53.24 597.05,-57.23 601.68,-62.48\"/>\n",
       "</g>\n",
       "</g>\n",
       "</svg>\n"
      ],
      "text/plain": [
       "<graphviz.sources.Source at 0x7fa66e1124f0>"
      ]
     },
     "execution_count": 41,
     "metadata": {},
     "output_type": "execute_result"
    }
   ],
   "source": [
    "dot_data = StringIO()\n",
    "gini_model2_graph_data = tree.export_graphviz(gini_model2)\n",
    "graph = graphviz.Source(gini_model2_graph_data, format=\"png\")\n",
    "\n",
    "graph"
   ]
  },
  {
   "cell_type": "code",
   "execution_count": 42,
   "metadata": {},
   "outputs": [
    {
     "data": {
      "text/plain": [
       "array(['No', 'Yes'], dtype=object)"
      ]
     },
     "execution_count": 42,
     "metadata": {},
     "output_type": "execute_result"
    }
   ],
   "source": [
    "# Alternatively for class_names use gini_model2.classes_\n",
    "gini_model2.classes_"
   ]
  },
  {
   "cell_type": "code",
   "execution_count": 43,
   "metadata": {
    "colab": {},
    "colab_type": "code",
    "id": "R4t7e9-GDuW9"
   },
   "outputs": [
    {
     "name": "stdout",
     "output_type": "stream",
     "text": [
      "Gini impurity  model - max depth 3\n",
      "Accuracy: 0.9747899159663865\n",
      "Balanced accuracy: 0.9691994996873046\n",
      "Precision score 0.9746835443037974\n",
      "Recall score 0.9512195121951219\n"
     ]
    }
   ],
   "source": [
    "print(\"Gini impurity  model - max depth 3\")\n",
    "print(\"Accuracy:\", metrics.accuracy_score(y_test,y_pred))\n",
    "print(\"Balanced accuracy:\", metrics.balanced_accuracy_score(y_test,y_pred))\n",
    "print('Precision score' , metrics.precision_score(y_test,y_pred, pos_label = \"Yes\"))\n",
    "print('Recall score' , metrics.recall_score(y_test,y_pred, pos_label = \"No\"))"
   ]
  },
  {
   "cell_type": "markdown",
   "metadata": {
    "colab_type": "text",
    "id": "UzGThBXSDuW-"
   },
   "source": [
    "Now this is an elegant tree. Its accuracy might not be the highest, but it's still the best model we've produced so far. Why is that? Write your answer here: The tree has good accuracy while maintaining pretty high balanced accuracy and precision scores without overfitting to the data. The first split also appears to be the most balanced (as compared to the other models)."
   ]
  },
  {
   "cell_type": "markdown",
   "metadata": {
    "colab_type": "text",
    "id": "jS1niFlCDuW_"
   },
   "source": [
    "# 4. Evaluating and concluding\n",
    "## 4a. How many customers will buy Hidden Farm coffee? \n",
    "Let's first ascertain how many loyal customers claimed, in the survey, that they will purchase the Hidden Farm coffee. "
   ]
  },
  {
   "cell_type": "code",
   "execution_count": 44,
   "metadata": {
    "colab": {},
    "colab_type": "code",
    "id": "QPHXnHZvDuXC"
   },
   "outputs": [
    {
     "data": {
      "text/plain": [
       "Yes    303\n",
       "No     171\n",
       "Name: Decision, dtype: int64"
      ]
     },
     "execution_count": 44,
     "metadata": {},
     "output_type": "execute_result"
    }
   ],
   "source": [
    "# Call value_counts() on the 'Decision' column of the original coffeeData\n",
    "coffeeData[\"Decision\"].value_counts()"
   ]
  },
  {
   "cell_type": "markdown",
   "metadata": {
    "colab_type": "text",
    "id": "kw_5g_ZEDuXD"
   },
   "source": [
    "Let's now determine the number of people that, according to the model, will be willing to buy the Hidden Farm coffee. \n",
    "1. First we subset the Prediction dataset into `new_X` considering all the variables except `Decision` \n",
    "2. Use that dataset to predict a new variable called `potential_buyers`"
   ]
  },
  {
   "cell_type": "code",
   "execution_count": 45,
   "metadata": {
    "colab": {},
    "colab_type": "code",
    "id": "mwypR8ymDuXE"
   },
   "outputs": [
    {
     "data": {
      "text/html": [
       "<div>\n",
       "<style scoped>\n",
       "    .dataframe tbody tr th:only-of-type {\n",
       "        vertical-align: middle;\n",
       "    }\n",
       "\n",
       "    .dataframe tbody tr th {\n",
       "        vertical-align: top;\n",
       "    }\n",
       "\n",
       "    .dataframe thead th {\n",
       "        text-align: right;\n",
       "    }\n",
       "</style>\n",
       "<table border=\"1\" class=\"dataframe\">\n",
       "  <thead>\n",
       "    <tr style=\"text-align: right;\">\n",
       "      <th></th>\n",
       "      <th>Age</th>\n",
       "      <th>Gender</th>\n",
       "      <th>num_coffeeBags_per_year</th>\n",
       "      <th>spent_last_week</th>\n",
       "      <th>spent_last_month</th>\n",
       "      <th>salary</th>\n",
       "      <th>Distance</th>\n",
       "      <th>Online</th>\n",
       "    </tr>\n",
       "  </thead>\n",
       "  <tbody>\n",
       "    <tr>\n",
       "      <th>1</th>\n",
       "      <td>24</td>\n",
       "      <td>Male</td>\n",
       "      <td>0</td>\n",
       "      <td>44</td>\n",
       "      <td>164</td>\n",
       "      <td>74035</td>\n",
       "      <td>0.520906</td>\n",
       "      <td>0</td>\n",
       "    </tr>\n",
       "    <tr>\n",
       "      <th>3</th>\n",
       "      <td>20</td>\n",
       "      <td>Male</td>\n",
       "      <td>0</td>\n",
       "      <td>30</td>\n",
       "      <td>107</td>\n",
       "      <td>13166</td>\n",
       "      <td>0.932098</td>\n",
       "      <td>1</td>\n",
       "    </tr>\n",
       "    <tr>\n",
       "      <th>7</th>\n",
       "      <td>24</td>\n",
       "      <td>Female</td>\n",
       "      <td>0</td>\n",
       "      <td>20</td>\n",
       "      <td>34</td>\n",
       "      <td>17425</td>\n",
       "      <td>1.193188</td>\n",
       "      <td>0</td>\n",
       "    </tr>\n",
       "    <tr>\n",
       "      <th>11</th>\n",
       "      <td>24</td>\n",
       "      <td>Female</td>\n",
       "      <td>0</td>\n",
       "      <td>40</td>\n",
       "      <td>153</td>\n",
       "      <td>84803</td>\n",
       "      <td>1.655096</td>\n",
       "      <td>1</td>\n",
       "    </tr>\n",
       "    <tr>\n",
       "      <th>12</th>\n",
       "      <td>21</td>\n",
       "      <td>Female</td>\n",
       "      <td>0</td>\n",
       "      <td>38</td>\n",
       "      <td>122</td>\n",
       "      <td>42338</td>\n",
       "      <td>1.714179</td>\n",
       "      <td>1</td>\n",
       "    </tr>\n",
       "  </tbody>\n",
       "</table>\n",
       "</div>"
      ],
      "text/plain": [
       "    Age  Gender  num_coffeeBags_per_year  spent_last_week  spent_last_month  \\\n",
       "1    24    Male                        0               44               164   \n",
       "3    20    Male                        0               30               107   \n",
       "7    24  Female                        0               20                34   \n",
       "11   24  Female                        0               40               153   \n",
       "12   21  Female                        0               38               122   \n",
       "\n",
       "    salary  Distance  Online  \n",
       "1    74035  0.520906       0  \n",
       "3    13166  0.932098       1  \n",
       "7    17425  1.193188       0  \n",
       "11   84803  1.655096       1  \n",
       "12   42338  1.714179       1  "
      ]
     },
     "execution_count": 45,
     "metadata": {},
     "output_type": "execute_result"
    }
   ],
   "source": [
    "# Feature selection\n",
    "# Make a variable called feature_cols, and assign it a list containing all the column names except 'Decision'\n",
    "feature_cols = ['Age', 'Gender', 'num_coffeeBags_per_year', 'spent_last_week','spent_last_month', 'salary', 'Distance', 'Online']\n",
    "\n",
    "# Make a variable called new_X, and assign it the subset of Prediction, containing just the feature_cols \n",
    "new_X = Prediction[feature_cols]\n",
    "new_X.head()"
   ]
  },
  {
   "cell_type": "code",
   "execution_count": 46,
   "metadata": {
    "colab": {},
    "colab_type": "code",
    "id": "0ajvbeRSDuXG"
   },
   "outputs": [],
   "source": [
    "# Call get_dummies() on the Pandas object pd, with new_X plugged in, to one-hot encode all features in the training set\n",
    "new_X = pd.get_dummies(new_X)\n",
    "\n",
    "# Make a variable called potential_buyers, and assign it the result of calling predict() on a model of your choice; \n",
    "# don't forget to pass new_X to predict()\n",
    "potential_buyers = gini_model2.predict(new_X)"
   ]
  },
  {
   "cell_type": "code",
   "execution_count": 47,
   "metadata": {
    "colab": {},
    "colab_type": "code",
    "id": "-MO_KWT9DuXI"
   },
   "outputs": [
    {
     "data": {
      "text/plain": [
       "(array(['No', 'Yes'], dtype=object), array([ 45, 183]))"
      ]
     },
     "execution_count": 47,
     "metadata": {},
     "output_type": "execute_result"
    }
   ],
   "source": [
    "# Let's get the numbers of YES's and NO's in the potential buyers \n",
    "# Call unique() on np, and pass potential_buyers and return_counts=True \n",
    "np.unique(potential_buyers, return_counts=True)"
   ]
  },
  {
   "cell_type": "markdown",
   "metadata": {
    "colab_type": "text",
    "id": "3CB7HbiTDuXJ"
   },
   "source": [
    "The total number of potential buyers is 303 + 183 = 486"
   ]
  },
  {
   "cell_type": "code",
   "execution_count": 48,
   "metadata": {
    "colab": {},
    "colab_type": "code",
    "id": "9EGFQcTuDuXK"
   },
   "outputs": [
    {
     "name": "stdout",
     "output_type": "stream",
     "text": [
      "Total number of surveyed people: 702\n"
     ]
    }
   ],
   "source": [
    "# Print the total number of surveyed people \n",
    "print(\"Total number of surveyed people:\", len(coffeeData))"
   ]
  },
  {
   "cell_type": "code",
   "execution_count": 49,
   "metadata": {
    "colab": {},
    "colab_type": "code",
    "id": "22_KRMX4DuXM"
   },
   "outputs": [
    {
     "name": "stdout",
     "output_type": "stream",
     "text": [
      "Proportion of buyers: 0.69\n"
     ]
    }
   ],
   "source": [
    "# Let's calculate the proportion of buyers\n",
    "print(f\"Proportion of buyers: {486 / 702:.2f}\")"
   ]
  },
  {
   "cell_type": "code",
   "execution_count": 50,
   "metadata": {
    "colab": {},
    "colab_type": "code",
    "id": "xLMCDMpmDuXO"
   },
   "outputs": [
    {
     "name": "stdout",
     "output_type": "stream",
     "text": [
      "69.23% of people want to buy Hidden Farm coffee. \n"
     ]
    }
   ],
   "source": [
    "# Print the percentage of people who want to buy the Hidden Farm coffee, by our model \n",
    "print(f\"{486 / 702 * 100:.2f}% of people want to buy Hidden Farm coffee. \")"
   ]
  },
  {
   "cell_type": "markdown",
   "metadata": {
    "colab_type": "text",
    "id": "9bRDyi6rDuXQ"
   },
   "source": [
    "## 4b. Decision\n",
    "Remember how you thought at the start: if more than 70% of the interviewed customers are likely to buy the Hidden Farm coffee, you will strike the deal with the local Hidden Farm farmers and sell the coffee. Otherwise, you won't strike the deal and the Hidden Farm coffee will remain in legends only. Well now's crunch time. Are you going to go ahead with that idea? If so, you won't be striking the deal with the Chinese farmers. \n",
    "\n",
    "They're called `decision trees`, aren't they? So where's the decision? What should you do? (Cue existential cat emoji). \n",
    "\n",
    "Ultimately, though, we can't write an algorithm to actually *make the business decision* for us. This is because such decisions depend on our values, what risks we are willing to take, the stakes of our decisions, and how important it us for us to *know* that we will succeed. What are you going to do with the models you've made? Are you going to risk everything, strike the deal with the *Hidden Farm* farmers, and sell the coffee? \n",
    "\n",
    "The philosopher of language Jason Stanley once wrote that the number of doubts our evidence has to rule out in order for us to know a given proposition depends on our stakes: the higher our stakes, the more doubts our evidence has to rule out, and therefore the harder it is for us to know things. We can end up paralyzed in predicaments; sometimes, we can act to better our situation only if we already know certain things, which we can only if our stakes were lower and we'd *already* bettered our situation. \n",
    "\n",
    "Data science and machine learning can't solve such problems. But what it can do is help us make great use of our data to help *inform* our decisions."
   ]
  },
  {
   "cell_type": "markdown",
   "metadata": {},
   "source": [
    "**My response:**\n",
    "Approximately 69% of people surveyed seem likely to buy Hidden Farm coffee. If we are firm in our 70% threshold, then we should deline to do the deal. Not all survey respondents answered the question of whether they'd buy Hidden Farm coffee. 183 of the \"Yes\" responses are actually predicted \"Yes\" based on the gini model (max depth of 3). The model has 97% accuracy based on the data that we have. It seems like a risky decision. I'd recommend holding off on the deal, working with subject matter experts to assess the 70% threshold, and potentially collect more survey data. It would also be interesting to know how many respondents would actually follow-through on buying the new product."
   ]
  },
  {
   "cell_type": "markdown",
   "metadata": {
    "colab_type": "text",
    "id": "crWWrpdox8i-"
   },
   "source": [
    "## 5. Random Forest\n",
    "You might have noticed an important fact about decision trees. Each time we run a given decision tree algorithm to make a prediction (such as whether customers will buy the Hidden Farm coffee) we will actually get a slightly different result. This might seem weird, but it has a simple explanation: machine learning algorithms are by definition ***stochastic***, in that their output is at least partly determined by randomness. \n",
    "\n",
    "To account for this variability and ensure that we get the most accurate prediction, we might want to actually make lots of decision trees, and get a value that captures the centre or average of the outputs of those trees. Luckily, there's a method for this, known as the ***Random Forest***. \n",
    "\n",
    "Essentially, Random Forest involves making lots of trees with similar properties, and then performing summary statistics on the outputs of those trees to reach that central value. Random forests are hugely powerful classifers, and they can improve predictive accuracy and control over-fitting. \n",
    "\n",
    "Why not try to inform your decision with random forest? You'll need to make use of the RandomForestClassifier function within the sklearn.ensemble module, found [here](https://scikit-learn.org/stable/modules/generated/sklearn.ensemble.RandomForestClassifier.html). "
   ]
  },
  {
   "cell_type": "markdown",
   "metadata": {
    "colab_type": "text",
    "id": "fI4fiVWq0IH9"
   },
   "source": [
    "### 5a. Import necessary modules"
   ]
  },
  {
   "cell_type": "code",
   "execution_count": 51,
   "metadata": {
    "colab": {},
    "colab_type": "code",
    "id": "vSRTnHnD0D-O"
   },
   "outputs": [],
   "source": [
    "from sklearn.ensemble import RandomForestClassifier\n",
    "from sklearn.datasets import make_classification"
   ]
  },
  {
   "cell_type": "markdown",
   "metadata": {
    "colab_type": "text",
    "id": "jKmFvvjb0WB9"
   },
   "source": [
    "### 5b. Model\n",
    "You'll use your X_train and y_train variables just as before.\n",
    "\n",
    "You'll then need to make a variable (call it firstRFModel) to store your new Random Forest model. You'll assign this variable the result of calling RandomForestClassifier().\n",
    "\n",
    "Then, just as before, you'll call fit() on that firstRFModel variable, and plug in X_train and y_train.\n",
    "\n",
    "Finally, you should make a variable called y_pred, and assign it the result of calling the predict() method on your new firstRFModel, with the X_test data passed to it. "
   ]
  },
  {
   "cell_type": "code",
   "execution_count": 52,
   "metadata": {
    "colab": {},
    "colab_type": "code",
    "id": "OQEeTiRG1aSm"
   },
   "outputs": [
    {
     "name": "stdout",
     "output_type": "stream",
     "text": [
      "Random Forest impurity  model - max depth 3\n",
      "Accuracy: 0.9411764705882353\n",
      "Balanced accuracy: 0.9204190118824265\n",
      "Precision score 0.927710843373494\n",
      "Recall score 0.8536585365853658\n"
     ]
    }
   ],
   "source": [
    "# Plug in appropriate max_depth and random_state parameters \n",
    "firstRFModel = RandomForestClassifier(max_depth=3, random_state = 1234)\n",
    "\n",
    "# Model and fit\n",
    "firstRFModel.fit(X_train, y_train)\n",
    "y_pred = firstRFModel.predict(X_test)\n",
    "pd.Series(y_pred)\n",
    "\n",
    "print(\"Random Forest impurity  model - max depth 3\")\n",
    "print(\"Accuracy:\", metrics.accuracy_score(y_test,y_pred))\n",
    "print(\"Balanced accuracy:\", metrics.balanced_accuracy_score(y_test,y_pred))\n",
    "print('Precision score' , metrics.precision_score(y_test,y_pred, pos_label = \"Yes\"))\n",
    "print('Recall score' , metrics.recall_score(y_test,y_pred, pos_label = \"No\"))\n"
   ]
  },
  {
   "cell_type": "markdown",
   "metadata": {
    "colab_type": "text",
    "id": "sCIt6pyn1zpb"
   },
   "source": [
    "### 5c. Revise conclusion\n",
    "\n",
    "Has your conclusion changed? Or is the result of executing random forest the same as your best model reached by a single decision tree? \n",
    "\n",
    "**My response:** The Random Forest model performs slightly worse than the best single decision tree model (gini model, max depth 3). This is more reason to postpone/be cautious about moving forward with the Hidden Farm deal, especially since we are below the 70% threshold."
   ]
  }
 ],
 "metadata": {
  "colab": {
   "collapsed_sections": [],
   "name": "Springboard Decision Tree Specialty Coffee Case Study - Tier 3.ipynb",
   "provenance": []
  },
  "kernelspec": {
   "display_name": "Python 3",
   "language": "python",
   "name": "python3"
  },
  "language_info": {
   "codemirror_mode": {
    "name": "ipython",
    "version": 3
   },
   "file_extension": ".py",
   "mimetype": "text/x-python",
   "name": "python",
   "nbconvert_exporter": "python",
   "pygments_lexer": "ipython3",
   "version": "3.8.8"
  }
 },
 "nbformat": 4,
 "nbformat_minor": 4
}
