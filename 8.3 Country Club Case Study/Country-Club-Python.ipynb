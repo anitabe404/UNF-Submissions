{
 "cells": [
  {
   "cell_type": "markdown",
   "id": "79f67d15",
   "metadata": {},
   "source": [
    "# Country Club Case Study\n",
    "## Part 1 - PHPMyAdmin\n",
    "\n",
    "**/* Q1: Some of the facilities charge a fee to members, but some do not.\n",
    "Write a SQL query to produce a list of the names of the facilities that do. */**\n",
    "\n",
    "SELECT name\n",
    "FROM Facilities\n",
    "WHERE membercost != 0;\n",
    "\n",
    "**/* Q2: How many facilities do not charge a fee to members? */**\n",
    "\n",
    "SELECT COUNT(facid) AS free_for_members\n",
    "FROM Facilities\n",
    "WHERE membercost = 0;\n",
    "\n",
    "**/* Q3: Write an SQL query to show a list of facilities that charge a fee to members,\n",
    "where the fee is less than 20% of the facility's monthly maintenance cost.\n",
    "Return the facid, facility name, member cost, and monthly maintenance of the\n",
    "facilities in question. */**\n",
    "\n",
    "SELECT *\n",
    "FROM\n",
    "\t(SELECT facid, \n",
    "\t\tname, \n",
    "\t\tmembercost, \n",
    "\t\tmonthlymaintenance,\n",
    "\t\t(membercost / monthlymaintenance * 100) AS perc_mon_maint\n",
    "    \tFROM Facilities) AS subquery\n",
    "WHERE perc_mon_maint < 20;\n",
    "\n",
    "**/* Q4: Write an SQL query to retrieve the details of facilities with ID 1 and 5.\n",
    "Try writing the query without using the OR operator. */**\n",
    "\n",
    "SELECT *\n",
    "FROM Facilities\n",
    "WHERE facid IN (1,5);\n",
    "\n",
    "**/* Q5: Produce a list of facilities, with each labelled as\n",
    "'cheap' or 'expensive', depending on if their monthly maintenance cost is more than $100. Return the name and monthly maintenance of the facilities in question. */**\n",
    "\n",
    "SELECT \n",
    "\tname,\n",
    "\tmonthlymaintenance,\n",
    "\tCASE WHEN monthlymaintenance > 100 THEN 'expensive'\n",
    "\tELSE 'cheap' END AS price_desc\n",
    "FROM Facilities;\n",
    "\n",
    "**/* Q6: You'd like to get the first and last name of the last member(s)\n",
    "who signed up. Try not to use the LIMIT clause for your solution. */**\n",
    "\n",
    "SELECT firstname, surname\n",
    "FROM Members\n",
    "WHERE joindate = (SELECT MAX(joindate) FROM Members);\n",
    "\n",
    "**/* Q7: Produce a list of all members who have used a tennis court.\n",
    "Include in your output the name of the court, and the name of the member formatted as a single column. Ensure no duplicate data, and order by the member name. */**\n",
    "\n",
    "SELECT DISTINCT CONCAT_WS(' ', firstname, surname) AS full_name, name AS facility_name\n",
    "FROM Bookings AS b\n",
    "LEFT JOIN Facilities AS f\n",
    "\tUSING(facid)\n",
    "LEFT JOIN Members AS m\n",
    "\tUSING(memid)\n",
    "WHERE name LIKE 'Tennis Court%'\n",
    "GROUP BY full_name;\n",
    "\n",
    "_Note: Some members booked multiple courts. This query will only show one of the courts that the member booked and not both (which would result in the same member showing up multiple times in the table)._\n",
    "\n",
    "**/* Q8: Produce a list of bookings on the day of 2012-09-14 which\n",
    "will cost the member (or guest) more than $30. Remember that guests have different costs to members (the listed costs are per half-hour 'slot'), and the guest user's ID is always 0. Include in your output the name of the facility, the name of the member formatted as a single column, and the cost. Order by descending cost, and do not use any subqueries. */**\n",
    "\n",
    "\n",
    "SELECT \n",
    "\tname AS facility_name,\n",
    "\tCASE WHEN firstname = 'GUEST' THEN 'GUEST'\n",
    "\t\tELSE CONCAT_WS(' ',firstname, surname) END AS full_name,\n",
    "\tCASE WHEN memid = 0 THEN (slots * guestcost)\n",
    "\t\tELSE (slots * membercost) END AS cost\n",
    "FROM Bookings as b\n",
    "LEFT JOIN Facilities as f\n",
    "\tUSING(facid)\n",
    "LEFT JOIN Members as m\n",
    "\tUSING(memid)\n",
    "WHERE starttime LIKE '2012-09-14%'\n",
    "HAVING cost > 30\n",
    "ORDER BY cost DESC;\n",
    "\n",
    "**/* Q9: This time, produce the same result as in Q8, but using a subquery. */**\n",
    "\n",
    "SELECT facility_name,\n",
    "\t\tCASE WHEN memid = 0 THEN 'GUEST'\n",
    "\t\t\tELSE CONCAT_WS(' ', firstname,surname) END AS member_name,\n",
    "\t\tbooking_cost\n",
    "FROM\n",
    "    (SELECT\n",
    "\t\tbookid,\n",
    "    \tb.memid,\n",
    " \t\tname AS facility_name,\n",
    "\t\tCASE WHEN b.memid = 0 THEN slots * guestcost\n",
    "\t\t\tELSE slots * membercost END AS booking_cost\n",
    "\tFROM Bookings AS b\n",
    "\tLEFT JOIN Facilities AS f\n",
    "\tUSING(facid)\n",
    "    WHERE starttime LIKE '2012-09-14%') AS mysub\n",
    "LEFT JOIN Members\n",
    "\tUSING(memid)\n",
    "WHERE booking_cost > 30\n",
    "ORDER BY booking_cost DESC;"
   ]
  },
  {
   "cell_type": "markdown",
   "id": "1192b6d7",
   "metadata": {},
   "source": [
    "## PART 2: SQLite\n",
    "\n",
    "Export the country club data from PHPMyAdmin, and connect to a local SQLite instance from Jupyter notebook \n",
    "for the following questions.  \n",
    "\n"
   ]
  },
  {
   "cell_type": "code",
   "execution_count": 1,
   "id": "96aecaae",
   "metadata": {},
   "outputs": [],
   "source": [
    "# Imports\n",
    "import sqlite3\n",
    "import pandas as pd"
   ]
  },
  {
   "cell_type": "markdown",
   "id": "07f09df5",
   "metadata": {},
   "source": [
    "**/* Q10: Produce a list of facilities with a total revenue less than 1000. The output of facility name and total revenue, sorted by revenue. Remember that there's a different cost for guests and members! */**"
   ]
  },
  {
   "cell_type": "code",
   "execution_count": 2,
   "id": "75bcda2c",
   "metadata": {},
   "outputs": [],
   "source": [
    "conn = sqlite3.connect('sqlite_db_pythonsqlite.db')\n",
    "\n",
    "sql_query10 = pd.read_sql_query(\n",
    "'''\n",
    "SELECT \n",
    "    name AS facility_name,\n",
    "\tfacid,\n",
    "\tSUM((CASE WHEN memid = 0 THEN slots * guestcost\n",
    "     \tELSE slots * membercost END)) AS revenue\n",
    "FROM Bookings\n",
    "LEFT JOIN Facilities\n",
    "\tUSING(facid)\n",
    "GROUP BY facility_name\n",
    "HAVING revenue < 1000\n",
    "ORDER BY revenue;\n",
    "''', conn)\n",
    "query10_df = pd.DataFrame(sql_query10, columns = ['facility_name', 'facid', 'revenue'])"
   ]
  },
  {
   "cell_type": "code",
   "execution_count": 3,
   "id": "2e1cf7ec",
   "metadata": {
    "scrolled": true
   },
   "outputs": [
    {
     "name": "stdout",
     "output_type": "stream",
     "text": [
      "   facility_name  facid  revenue\n",
      "0   Table Tennis      3      180\n",
      "1  Snooker Table      7      240\n",
      "2     Pool Table      8      270\n"
     ]
    }
   ],
   "source": [
    "print(query10_df)"
   ]
  },
  {
   "cell_type": "markdown",
   "id": "7cbe7afc",
   "metadata": {},
   "source": [
    "**/* Q11: Produce a report of members and who recommended them in alphabetic surname,firstname order */**\n",
    "\n",
    "_Note: This query filters out members that don't have a recommender._"
   ]
  },
  {
   "cell_type": "code",
   "execution_count": 4,
   "id": "5a08eda3",
   "metadata": {},
   "outputs": [],
   "source": [
    "sql_query11 = pd.read_sql_query(\n",
    "'''\n",
    "SELECT m1.surname,\n",
    "    m1.firstname,\n",
    "    m2.firstname || ' '|| m2.surname AS recommender\n",
    "FROM Members as m1\n",
    "INNER JOIN Members as m2\n",
    "  ON m1.recommendedby = m2.memid\n",
    "WHERE m1.memid != 0\n",
    "ORDER BY m1.surname, m1.firstname;\n",
    "''', conn)\n",
    "query11_df = pd.DataFrame(sql_query11, columns = ['surname', 'firstname', 'recommender'])"
   ]
  },
  {
   "cell_type": "code",
   "execution_count": 5,
   "id": "ee962c5b",
   "metadata": {
    "scrolled": true
   },
   "outputs": [
    {
     "name": "stdout",
     "output_type": "stream",
     "text": [
      "              surname  firstname        recommender\n",
      "0               Bader   Florence    Ponder Stibbons\n",
      "1               Baker       Anne    Ponder Stibbons\n",
      "2               Baker    Timothy     Jemima Farrell\n",
      "3              Boothe        Tim         Tim Rownam\n",
      "4             Butters     Gerald       Darren Smith\n",
      "5              Coplin       Joan      Timothy Baker\n",
      "6             Crumpet      Erica        Tracy Smith\n",
      "7                Dare      Nancy    Janice Joplette\n",
      "8             Genting    Matthew     Gerald Butters\n",
      "9                Hunt       John  Millicent Purview\n",
      "10              Jones      David    Janice Joplette\n",
      "11              Jones    Douglas        David Jones\n",
      "12           Joplette     Janice       Darren Smith\n",
      "13          Mackenzie       Anna       Darren Smith\n",
      "14               Owen    Charles       Darren Smith\n",
      "15             Pinker      David     Jemima Farrell\n",
      "16            Purview  Millicent        Tracy Smith\n",
      "17             Rumney  Henrietta    Matthew Genting\n",
      "18             Sarwin  Ramnaresh     Florence Bader\n",
      "19              Smith       Jack       Darren Smith\n",
      "20           Stibbons     Ponder       Burton Tracy\n",
      "21  Worthington-Smyth      Henry        Tracy Smith\n"
     ]
    }
   ],
   "source": [
    "print(query11_df)"
   ]
  },
  {
   "cell_type": "markdown",
   "id": "75d68e06",
   "metadata": {},
   "source": [
    "/* Q12: Find the facilities with their usage by member, but not guests */"
   ]
  },
  {
   "cell_type": "code",
   "execution_count": 38,
   "id": "a5df3aef",
   "metadata": {},
   "outputs": [],
   "source": [
    "sql_query12 = pd.read_sql_query(\n",
    "'''\n",
    "SELECT\n",
    "    facid,\n",
    "    name as facility_name,\n",
    "    SUM(CASE WHEN memid = 0 THEN 0\n",
    "            ELSE slots END) AS usage\n",
    "FROM Bookings\n",
    "LEFT JOIN Facilities\n",
    "  USING(facid)\n",
    "GROUP BY facid, facility_name\n",
    "ORDER BY usage DESC;\n",
    "''', conn)\n",
    "query12_df = pd.DataFrame(sql_query12, columns = ['facid', 'facility_name', 'usage'])"
   ]
  },
  {
   "cell_type": "code",
   "execution_count": 39,
   "id": "0820e557",
   "metadata": {
    "scrolled": true
   },
   "outputs": [
    {
     "name": "stdout",
     "output_type": "stream",
     "text": [
      "   facid    facility_name  usage\n",
      "0      2  Badminton Court   1086\n",
      "1      0   Tennis Court 1    957\n",
      "2      4   Massage Room 1    884\n",
      "3      1   Tennis Court 2    882\n",
      "4      7    Snooker Table    860\n",
      "5      8       Pool Table    856\n",
      "6      3     Table Tennis    794\n",
      "7      6     Squash Court    418\n",
      "8      5   Massage Room 2     54\n"
     ]
    }
   ],
   "source": [
    "print(query12_df)"
   ]
  },
  {
   "cell_type": "markdown",
   "id": "1c69d682",
   "metadata": {},
   "source": [
    "**/* Q13: Find the facilities usage by month, but not guests */**\n",
    "\n",
    "strftime('%m', starttime) <- to extract month."
   ]
  },
  {
   "cell_type": "code",
   "execution_count": 44,
   "id": "2c169450",
   "metadata": {},
   "outputs": [],
   "source": [
    "sql_query13 = pd.read_sql_query(\n",
    "'''\n",
    "SELECT\n",
    "    STRFTIME('%m', starttime) AS month,\n",
    "    SUM(CASE WHEN memid = 0 THEN 0\n",
    "            ELSE slots END) AS usage\n",
    "FROM Bookings\n",
    "LEFT JOIN Facilities\n",
    "  USING(facid)\n",
    "GROUP BY month\n",
    "ORDER BY month, usage DESC;\n",
    "''', conn)\n",
    "query13_df = pd.DataFrame(sql_query13, columns = ['month', 'usage'])"
   ]
  },
  {
   "cell_type": "code",
   "execution_count": 45,
   "id": "76525ae4",
   "metadata": {},
   "outputs": [
    {
     "name": "stdout",
     "output_type": "stream",
     "text": [
      "  month  usage\n",
      "0    07   1061\n",
      "1    08   2531\n",
      "2    09   3199\n"
     ]
    }
   ],
   "source": [
    "print(query13_df)"
   ]
  }
 ],
 "metadata": {
  "kernelspec": {
   "display_name": "Python 3",
   "language": "python",
   "name": "python3"
  },
  "language_info": {
   "codemirror_mode": {
    "name": "ipython",
    "version": 3
   },
   "file_extension": ".py",
   "mimetype": "text/x-python",
   "name": "python",
   "nbconvert_exporter": "python",
   "pygments_lexer": "ipython3",
   "version": "3.8.8"
  }
 },
 "nbformat": 4,
 "nbformat_minor": 5
}
